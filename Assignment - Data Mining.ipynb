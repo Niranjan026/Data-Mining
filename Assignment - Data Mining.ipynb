{
 "cells": [
  {
   "cell_type": "markdown",
   "metadata": {},
   "source": [
    "## Group Assignment "
   ]
  },
  {
   "cell_type": "markdown",
   "metadata": {},
   "source": [
    " $\\underline{Problem Statement}$ : Given the Independent variables, we have to predicts the claim status and provide recommendations to Insurance firm management."
   ]
  },
  {
   "cell_type": "markdown",
   "metadata": {},
   "source": [
    "Attribute Information:\n",
    "1. Target: Claim Status (Claimed)\n",
    "2. Code of tour firm (Agency_Code)\n",
    "3. Type of tour insurance firms (Type)\n",
    "4. Distribution channel of tour insurance agencies (Channel)\n",
    "5. Name of the tour insurance products (Product)\n",
    "6. Duration of the tour (Duration)\n",
    "7. Destination of the tour (Destination)\n",
    "8. Amount of sales of tour insurance policies (Sales)\n",
    "9. The commission received for tour insurance firm (Commission)\n",
    "10. Age of insured (Age)"
   ]
  },
  {
   "cell_type": "markdown",
   "metadata": {},
   "source": [
    "### CART Model"
   ]
  },
  {
   "cell_type": "markdown",
   "metadata": {},
   "source": [
    "### Importing required packages and dataset"
   ]
  },
  {
   "cell_type": "code",
   "execution_count": 1098,
   "metadata": {},
   "outputs": [],
   "source": [
    "import numpy as np\n",
    "import pandas as pd\n",
    "from sklearn.tree import DecisionTreeClassifier\n",
    "from sklearn.ensemble import RandomForestClassifier\n",
    "from sklearn.neural_network import MLPClassifier\n",
    "import matplotlib.pyplot as plt\n",
    "import matplotlib.cm as cm\n",
    "import seaborn as sns\n",
    "sns.set(color_codes=True)\n",
    "%matplotlib inline \n",
    "sns.set_palette(\"deep\")"
   ]
  },
  {
   "cell_type": "code",
   "execution_count": 1099,
   "metadata": {},
   "outputs": [
    {
     "data": {
      "text/plain": [
       "'C:\\\\Users\\\\niranja.dhavan\\\\Desktop\\\\Data Mining\\\\Group Assigment'"
      ]
     },
     "execution_count": 1099,
     "metadata": {},
     "output_type": "execute_result"
    }
   ],
   "source": [
    "import os\n",
    "os.getcwd()"
   ]
  },
  {
   "cell_type": "code",
   "execution_count": 1100,
   "metadata": {},
   "outputs": [],
   "source": [
    "df = pd.read_csv(\"insurance_part2_data.csv\")"
   ]
  },
  {
   "cell_type": "markdown",
   "metadata": {},
   "source": [
    "### Checking the data"
   ]
  },
  {
   "cell_type": "code",
   "execution_count": 1101,
   "metadata": {},
   "outputs": [
    {
     "data": {
      "text/html": [
       "<div>\n",
       "<style scoped>\n",
       "    .dataframe tbody tr th:only-of-type {\n",
       "        vertical-align: middle;\n",
       "    }\n",
       "\n",
       "    .dataframe tbody tr th {\n",
       "        vertical-align: top;\n",
       "    }\n",
       "\n",
       "    .dataframe thead th {\n",
       "        text-align: right;\n",
       "    }\n",
       "</style>\n",
       "<table border=\"1\" class=\"dataframe\">\n",
       "  <thead>\n",
       "    <tr style=\"text-align: right;\">\n",
       "      <th></th>\n",
       "      <th>Age</th>\n",
       "      <th>Agency_Code</th>\n",
       "      <th>Type</th>\n",
       "      <th>Claimed</th>\n",
       "      <th>Commision</th>\n",
       "      <th>Channel</th>\n",
       "      <th>Duration</th>\n",
       "      <th>Sales</th>\n",
       "      <th>Product Name</th>\n",
       "      <th>Destination</th>\n",
       "    </tr>\n",
       "  </thead>\n",
       "  <tbody>\n",
       "    <tr>\n",
       "      <th>0</th>\n",
       "      <td>48</td>\n",
       "      <td>C2B</td>\n",
       "      <td>Airlines</td>\n",
       "      <td>No</td>\n",
       "      <td>0.70</td>\n",
       "      <td>Online</td>\n",
       "      <td>7</td>\n",
       "      <td>2.51</td>\n",
       "      <td>Customised Plan</td>\n",
       "      <td>ASIA</td>\n",
       "    </tr>\n",
       "    <tr>\n",
       "      <th>1</th>\n",
       "      <td>36</td>\n",
       "      <td>EPX</td>\n",
       "      <td>Travel Agency</td>\n",
       "      <td>No</td>\n",
       "      <td>0.00</td>\n",
       "      <td>Online</td>\n",
       "      <td>34</td>\n",
       "      <td>20.00</td>\n",
       "      <td>Customised Plan</td>\n",
       "      <td>ASIA</td>\n",
       "    </tr>\n",
       "    <tr>\n",
       "      <th>2</th>\n",
       "      <td>39</td>\n",
       "      <td>CWT</td>\n",
       "      <td>Travel Agency</td>\n",
       "      <td>No</td>\n",
       "      <td>5.94</td>\n",
       "      <td>Online</td>\n",
       "      <td>3</td>\n",
       "      <td>9.90</td>\n",
       "      <td>Customised Plan</td>\n",
       "      <td>Americas</td>\n",
       "    </tr>\n",
       "    <tr>\n",
       "      <th>3</th>\n",
       "      <td>36</td>\n",
       "      <td>EPX</td>\n",
       "      <td>Travel Agency</td>\n",
       "      <td>No</td>\n",
       "      <td>0.00</td>\n",
       "      <td>Online</td>\n",
       "      <td>4</td>\n",
       "      <td>26.00</td>\n",
       "      <td>Cancellation Plan</td>\n",
       "      <td>ASIA</td>\n",
       "    </tr>\n",
       "    <tr>\n",
       "      <th>4</th>\n",
       "      <td>33</td>\n",
       "      <td>JZI</td>\n",
       "      <td>Airlines</td>\n",
       "      <td>No</td>\n",
       "      <td>6.30</td>\n",
       "      <td>Online</td>\n",
       "      <td>53</td>\n",
       "      <td>18.00</td>\n",
       "      <td>Bronze Plan</td>\n",
       "      <td>ASIA</td>\n",
       "    </tr>\n",
       "    <tr>\n",
       "      <th>5</th>\n",
       "      <td>45</td>\n",
       "      <td>JZI</td>\n",
       "      <td>Airlines</td>\n",
       "      <td>Yes</td>\n",
       "      <td>15.75</td>\n",
       "      <td>Online</td>\n",
       "      <td>8</td>\n",
       "      <td>45.00</td>\n",
       "      <td>Bronze Plan</td>\n",
       "      <td>ASIA</td>\n",
       "    </tr>\n",
       "    <tr>\n",
       "      <th>6</th>\n",
       "      <td>61</td>\n",
       "      <td>CWT</td>\n",
       "      <td>Travel Agency</td>\n",
       "      <td>No</td>\n",
       "      <td>35.64</td>\n",
       "      <td>Online</td>\n",
       "      <td>30</td>\n",
       "      <td>59.40</td>\n",
       "      <td>Customised Plan</td>\n",
       "      <td>Americas</td>\n",
       "    </tr>\n",
       "    <tr>\n",
       "      <th>7</th>\n",
       "      <td>36</td>\n",
       "      <td>EPX</td>\n",
       "      <td>Travel Agency</td>\n",
       "      <td>No</td>\n",
       "      <td>0.00</td>\n",
       "      <td>Online</td>\n",
       "      <td>16</td>\n",
       "      <td>80.00</td>\n",
       "      <td>Cancellation Plan</td>\n",
       "      <td>ASIA</td>\n",
       "    </tr>\n",
       "    <tr>\n",
       "      <th>8</th>\n",
       "      <td>36</td>\n",
       "      <td>EPX</td>\n",
       "      <td>Travel Agency</td>\n",
       "      <td>No</td>\n",
       "      <td>0.00</td>\n",
       "      <td>Online</td>\n",
       "      <td>19</td>\n",
       "      <td>14.00</td>\n",
       "      <td>Cancellation Plan</td>\n",
       "      <td>ASIA</td>\n",
       "    </tr>\n",
       "    <tr>\n",
       "      <th>9</th>\n",
       "      <td>36</td>\n",
       "      <td>EPX</td>\n",
       "      <td>Travel Agency</td>\n",
       "      <td>No</td>\n",
       "      <td>0.00</td>\n",
       "      <td>Online</td>\n",
       "      <td>42</td>\n",
       "      <td>43.00</td>\n",
       "      <td>Cancellation Plan</td>\n",
       "      <td>ASIA</td>\n",
       "    </tr>\n",
       "  </tbody>\n",
       "</table>\n",
       "</div>"
      ],
      "text/plain": [
       "   Age Agency_Code           Type Claimed  Commision Channel  Duration  Sales  \\\n",
       "0   48         C2B       Airlines      No       0.70  Online         7   2.51   \n",
       "1   36         EPX  Travel Agency      No       0.00  Online        34  20.00   \n",
       "2   39         CWT  Travel Agency      No       5.94  Online         3   9.90   \n",
       "3   36         EPX  Travel Agency      No       0.00  Online         4  26.00   \n",
       "4   33         JZI       Airlines      No       6.30  Online        53  18.00   \n",
       "5   45         JZI       Airlines     Yes      15.75  Online         8  45.00   \n",
       "6   61         CWT  Travel Agency      No      35.64  Online        30  59.40   \n",
       "7   36         EPX  Travel Agency      No       0.00  Online        16  80.00   \n",
       "8   36         EPX  Travel Agency      No       0.00  Online        19  14.00   \n",
       "9   36         EPX  Travel Agency      No       0.00  Online        42  43.00   \n",
       "\n",
       "        Product Name Destination  \n",
       "0    Customised Plan        ASIA  \n",
       "1    Customised Plan        ASIA  \n",
       "2    Customised Plan    Americas  \n",
       "3  Cancellation Plan        ASIA  \n",
       "4        Bronze Plan        ASIA  \n",
       "5        Bronze Plan        ASIA  \n",
       "6    Customised Plan    Americas  \n",
       "7  Cancellation Plan        ASIA  \n",
       "8  Cancellation Plan        ASIA  \n",
       "9  Cancellation Plan        ASIA  "
      ]
     },
     "execution_count": 1101,
     "metadata": {},
     "output_type": "execute_result"
    }
   ],
   "source": [
    "df.head(10)"
   ]
  },
  {
   "cell_type": "code",
   "execution_count": 1102,
   "metadata": {},
   "outputs": [
    {
     "data": {
      "text/html": [
       "<div>\n",
       "<style scoped>\n",
       "    .dataframe tbody tr th:only-of-type {\n",
       "        vertical-align: middle;\n",
       "    }\n",
       "\n",
       "    .dataframe tbody tr th {\n",
       "        vertical-align: top;\n",
       "    }\n",
       "\n",
       "    .dataframe thead th {\n",
       "        text-align: right;\n",
       "    }\n",
       "</style>\n",
       "<table border=\"1\" class=\"dataframe\">\n",
       "  <thead>\n",
       "    <tr style=\"text-align: right;\">\n",
       "      <th></th>\n",
       "      <th>Age</th>\n",
       "      <th>Agency_Code</th>\n",
       "      <th>Type</th>\n",
       "      <th>Claimed</th>\n",
       "      <th>Commision</th>\n",
       "      <th>Channel</th>\n",
       "      <th>Duration</th>\n",
       "      <th>Sales</th>\n",
       "      <th>Product Name</th>\n",
       "      <th>Destination</th>\n",
       "    </tr>\n",
       "  </thead>\n",
       "  <tbody>\n",
       "    <tr>\n",
       "      <th>2990</th>\n",
       "      <td>51</td>\n",
       "      <td>EPX</td>\n",
       "      <td>Travel Agency</td>\n",
       "      <td>No</td>\n",
       "      <td>0.00</td>\n",
       "      <td>Online</td>\n",
       "      <td>2</td>\n",
       "      <td>20.00</td>\n",
       "      <td>Customised Plan</td>\n",
       "      <td>ASIA</td>\n",
       "    </tr>\n",
       "    <tr>\n",
       "      <th>2991</th>\n",
       "      <td>29</td>\n",
       "      <td>C2B</td>\n",
       "      <td>Airlines</td>\n",
       "      <td>Yes</td>\n",
       "      <td>48.30</td>\n",
       "      <td>Online</td>\n",
       "      <td>381</td>\n",
       "      <td>193.20</td>\n",
       "      <td>Silver Plan</td>\n",
       "      <td>ASIA</td>\n",
       "    </tr>\n",
       "    <tr>\n",
       "      <th>2992</th>\n",
       "      <td>28</td>\n",
       "      <td>CWT</td>\n",
       "      <td>Travel Agency</td>\n",
       "      <td>No</td>\n",
       "      <td>11.88</td>\n",
       "      <td>Online</td>\n",
       "      <td>389</td>\n",
       "      <td>19.80</td>\n",
       "      <td>Customised Plan</td>\n",
       "      <td>ASIA</td>\n",
       "    </tr>\n",
       "    <tr>\n",
       "      <th>2993</th>\n",
       "      <td>36</td>\n",
       "      <td>EPX</td>\n",
       "      <td>Travel Agency</td>\n",
       "      <td>No</td>\n",
       "      <td>0.00</td>\n",
       "      <td>Online</td>\n",
       "      <td>234</td>\n",
       "      <td>10.00</td>\n",
       "      <td>Cancellation Plan</td>\n",
       "      <td>ASIA</td>\n",
       "    </tr>\n",
       "    <tr>\n",
       "      <th>2994</th>\n",
       "      <td>27</td>\n",
       "      <td>C2B</td>\n",
       "      <td>Airlines</td>\n",
       "      <td>Yes</td>\n",
       "      <td>71.85</td>\n",
       "      <td>Online</td>\n",
       "      <td>416</td>\n",
       "      <td>287.40</td>\n",
       "      <td>Gold Plan</td>\n",
       "      <td>ASIA</td>\n",
       "    </tr>\n",
       "    <tr>\n",
       "      <th>2995</th>\n",
       "      <td>28</td>\n",
       "      <td>CWT</td>\n",
       "      <td>Travel Agency</td>\n",
       "      <td>Yes</td>\n",
       "      <td>166.53</td>\n",
       "      <td>Online</td>\n",
       "      <td>364</td>\n",
       "      <td>256.20</td>\n",
       "      <td>Gold Plan</td>\n",
       "      <td>Americas</td>\n",
       "    </tr>\n",
       "    <tr>\n",
       "      <th>2996</th>\n",
       "      <td>35</td>\n",
       "      <td>C2B</td>\n",
       "      <td>Airlines</td>\n",
       "      <td>No</td>\n",
       "      <td>13.50</td>\n",
       "      <td>Online</td>\n",
       "      <td>5</td>\n",
       "      <td>54.00</td>\n",
       "      <td>Gold Plan</td>\n",
       "      <td>ASIA</td>\n",
       "    </tr>\n",
       "    <tr>\n",
       "      <th>2997</th>\n",
       "      <td>36</td>\n",
       "      <td>EPX</td>\n",
       "      <td>Travel Agency</td>\n",
       "      <td>No</td>\n",
       "      <td>0.00</td>\n",
       "      <td>Online</td>\n",
       "      <td>54</td>\n",
       "      <td>28.00</td>\n",
       "      <td>Customised Plan</td>\n",
       "      <td>ASIA</td>\n",
       "    </tr>\n",
       "    <tr>\n",
       "      <th>2998</th>\n",
       "      <td>34</td>\n",
       "      <td>C2B</td>\n",
       "      <td>Airlines</td>\n",
       "      <td>Yes</td>\n",
       "      <td>7.64</td>\n",
       "      <td>Online</td>\n",
       "      <td>39</td>\n",
       "      <td>30.55</td>\n",
       "      <td>Bronze Plan</td>\n",
       "      <td>ASIA</td>\n",
       "    </tr>\n",
       "    <tr>\n",
       "      <th>2999</th>\n",
       "      <td>47</td>\n",
       "      <td>JZI</td>\n",
       "      <td>Airlines</td>\n",
       "      <td>No</td>\n",
       "      <td>11.55</td>\n",
       "      <td>Online</td>\n",
       "      <td>15</td>\n",
       "      <td>33.00</td>\n",
       "      <td>Bronze Plan</td>\n",
       "      <td>ASIA</td>\n",
       "    </tr>\n",
       "  </tbody>\n",
       "</table>\n",
       "</div>"
      ],
      "text/plain": [
       "      Age Agency_Code           Type Claimed  Commision Channel  Duration  \\\n",
       "2990   51         EPX  Travel Agency      No       0.00  Online         2   \n",
       "2991   29         C2B       Airlines     Yes      48.30  Online       381   \n",
       "2992   28         CWT  Travel Agency      No      11.88  Online       389   \n",
       "2993   36         EPX  Travel Agency      No       0.00  Online       234   \n",
       "2994   27         C2B       Airlines     Yes      71.85  Online       416   \n",
       "2995   28         CWT  Travel Agency     Yes     166.53  Online       364   \n",
       "2996   35         C2B       Airlines      No      13.50  Online         5   \n",
       "2997   36         EPX  Travel Agency      No       0.00  Online        54   \n",
       "2998   34         C2B       Airlines     Yes       7.64  Online        39   \n",
       "2999   47         JZI       Airlines      No      11.55  Online        15   \n",
       "\n",
       "       Sales       Product Name Destination  \n",
       "2990   20.00    Customised Plan        ASIA  \n",
       "2991  193.20        Silver Plan        ASIA  \n",
       "2992   19.80    Customised Plan        ASIA  \n",
       "2993   10.00  Cancellation Plan        ASIA  \n",
       "2994  287.40          Gold Plan        ASIA  \n",
       "2995  256.20          Gold Plan    Americas  \n",
       "2996   54.00          Gold Plan        ASIA  \n",
       "2997   28.00    Customised Plan        ASIA  \n",
       "2998   30.55        Bronze Plan        ASIA  \n",
       "2999   33.00        Bronze Plan        ASIA  "
      ]
     },
     "execution_count": 1102,
     "metadata": {},
     "output_type": "execute_result"
    }
   ],
   "source": [
    "df.tail(10)"
   ]
  },
  {
   "cell_type": "code",
   "execution_count": 1103,
   "metadata": {},
   "outputs": [
    {
     "data": {
      "text/plain": [
       "(3000, 10)"
      ]
     },
     "execution_count": 1103,
     "metadata": {},
     "output_type": "execute_result"
    }
   ],
   "source": [
    "df.shape"
   ]
  },
  {
   "cell_type": "code",
   "execution_count": 1104,
   "metadata": {},
   "outputs": [
    {
     "name": "stdout",
     "output_type": "stream",
     "text": [
      "<class 'pandas.core.frame.DataFrame'>\n",
      "RangeIndex: 3000 entries, 0 to 2999\n",
      "Data columns (total 10 columns):\n",
      " #   Column        Non-Null Count  Dtype  \n",
      "---  ------        --------------  -----  \n",
      " 0   Age           3000 non-null   int64  \n",
      " 1   Agency_Code   3000 non-null   object \n",
      " 2   Type          3000 non-null   object \n",
      " 3   Claimed       3000 non-null   object \n",
      " 4   Commision     3000 non-null   float64\n",
      " 5   Channel       3000 non-null   object \n",
      " 6   Duration      3000 non-null   int64  \n",
      " 7   Sales         3000 non-null   float64\n",
      " 8   Product Name  3000 non-null   object \n",
      " 9   Destination   3000 non-null   object \n",
      "dtypes: float64(2), int64(2), object(6)\n",
      "memory usage: 234.5+ KB\n"
     ]
    }
   ],
   "source": [
    "df.info()"
   ]
  },
  {
   "cell_type": "markdown",
   "metadata": {},
   "source": [
    "### EDA"
   ]
  },
  {
   "cell_type": "markdown",
   "metadata": {},
   "source": [
    "### Summary of the data"
   ]
  },
  {
   "cell_type": "code",
   "execution_count": 1105,
   "metadata": {},
   "outputs": [
    {
     "data": {
      "text/html": [
       "<div>\n",
       "<style scoped>\n",
       "    .dataframe tbody tr th:only-of-type {\n",
       "        vertical-align: middle;\n",
       "    }\n",
       "\n",
       "    .dataframe tbody tr th {\n",
       "        vertical-align: top;\n",
       "    }\n",
       "\n",
       "    .dataframe thead th {\n",
       "        text-align: right;\n",
       "    }\n",
       "</style>\n",
       "<table border=\"1\" class=\"dataframe\">\n",
       "  <thead>\n",
       "    <tr style=\"text-align: right;\">\n",
       "      <th></th>\n",
       "      <th>count</th>\n",
       "      <th>mean</th>\n",
       "      <th>std</th>\n",
       "      <th>min</th>\n",
       "      <th>25%</th>\n",
       "      <th>50%</th>\n",
       "      <th>75%</th>\n",
       "      <th>max</th>\n",
       "    </tr>\n",
       "  </thead>\n",
       "  <tbody>\n",
       "    <tr>\n",
       "      <th>Age</th>\n",
       "      <td>3000.0</td>\n",
       "      <td>38.091000</td>\n",
       "      <td>10.463518</td>\n",
       "      <td>8.0</td>\n",
       "      <td>32.0</td>\n",
       "      <td>36.00</td>\n",
       "      <td>42.000</td>\n",
       "      <td>84.00</td>\n",
       "    </tr>\n",
       "    <tr>\n",
       "      <th>Commision</th>\n",
       "      <td>3000.0</td>\n",
       "      <td>14.529203</td>\n",
       "      <td>25.481455</td>\n",
       "      <td>0.0</td>\n",
       "      <td>0.0</td>\n",
       "      <td>4.63</td>\n",
       "      <td>17.235</td>\n",
       "      <td>210.21</td>\n",
       "    </tr>\n",
       "    <tr>\n",
       "      <th>Duration</th>\n",
       "      <td>3000.0</td>\n",
       "      <td>70.001333</td>\n",
       "      <td>134.053313</td>\n",
       "      <td>-1.0</td>\n",
       "      <td>11.0</td>\n",
       "      <td>26.50</td>\n",
       "      <td>63.000</td>\n",
       "      <td>4580.00</td>\n",
       "    </tr>\n",
       "    <tr>\n",
       "      <th>Sales</th>\n",
       "      <td>3000.0</td>\n",
       "      <td>60.249913</td>\n",
       "      <td>70.733954</td>\n",
       "      <td>0.0</td>\n",
       "      <td>20.0</td>\n",
       "      <td>33.00</td>\n",
       "      <td>69.000</td>\n",
       "      <td>539.00</td>\n",
       "    </tr>\n",
       "  </tbody>\n",
       "</table>\n",
       "</div>"
      ],
      "text/plain": [
       "            count       mean         std  min   25%    50%     75%      max\n",
       "Age        3000.0  38.091000   10.463518  8.0  32.0  36.00  42.000    84.00\n",
       "Commision  3000.0  14.529203   25.481455  0.0   0.0   4.63  17.235   210.21\n",
       "Duration   3000.0  70.001333  134.053313 -1.0  11.0  26.50  63.000  4580.00\n",
       "Sales      3000.0  60.249913   70.733954  0.0  20.0  33.00  69.000   539.00"
      ]
     },
     "execution_count": 1105,
     "metadata": {},
     "output_type": "execute_result"
    }
   ],
   "source": [
    "df.describe().T"
   ]
  },
  {
   "cell_type": "markdown",
   "metadata": {},
   "source": [
    "- Duration has negative value, it is not possible. Wrong entry.\n",
    "- Commision & Sales- mean and median varies signficantly"
   ]
  },
  {
   "cell_type": "markdown",
   "metadata": {},
   "source": [
    "Geting unique counts of all Nominal Variables"
   ]
  },
  {
   "cell_type": "code",
   "execution_count": 1106,
   "metadata": {},
   "outputs": [
    {
     "name": "stdout",
     "output_type": "stream",
     "text": [
      "AGENCY_CODE :  4\n",
      "JZI     239\n",
      "CWT     472\n",
      "C2B     924\n",
      "EPX    1365\n",
      "Name: Agency_Code, dtype: int64\n",
      "\n",
      "\n",
      "TYPE :  2\n",
      "Airlines         1163\n",
      "Travel Agency    1837\n",
      "Name: Type, dtype: int64\n",
      "\n",
      "\n",
      "CHANNEL :  2\n",
      "Offline      46\n",
      "Online     2954\n",
      "Name: Channel, dtype: int64\n",
      "\n",
      "\n",
      "PRODUCT NAME :  5\n",
      "Gold Plan             109\n",
      "Silver Plan           427\n",
      "Bronze Plan           650\n",
      "Cancellation Plan     678\n",
      "Customised Plan      1136\n",
      "Name: Product Name, dtype: int64\n",
      "\n",
      "\n",
      "DESTINATION :  3\n",
      "EUROPE       215\n",
      "Americas     320\n",
      "ASIA        2465\n",
      "Name: Destination, dtype: int64\n",
      "\n",
      "\n"
     ]
    }
   ],
   "source": [
    "for column in df[['Agency_Code', 'Type','Channel', \n",
    "                  'Product Name', 'Destination']]:\n",
    "    print(column.upper(),': ',df[column].nunique())\n",
    "    print(df[column].value_counts().sort_values())\n",
    "    print('\\n')"
   ]
  },
  {
   "cell_type": "code",
   "execution_count": 1107,
   "metadata": {},
   "outputs": [
    {
     "name": "stdout",
     "output_type": "stream",
     "text": [
      "<class 'pandas.core.frame.DataFrame'>\n",
      "RangeIndex: 3000 entries, 0 to 2999\n",
      "Data columns (total 10 columns):\n",
      " #   Column        Non-Null Count  Dtype  \n",
      "---  ------        --------------  -----  \n",
      " 0   Age           3000 non-null   int64  \n",
      " 1   Agency_Code   3000 non-null   object \n",
      " 2   Type          3000 non-null   object \n",
      " 3   Claimed       3000 non-null   object \n",
      " 4   Commision     3000 non-null   float64\n",
      " 5   Channel       3000 non-null   object \n",
      " 6   Duration      3000 non-null   int64  \n",
      " 7   Sales         3000 non-null   float64\n",
      " 8   Product Name  3000 non-null   object \n",
      " 9   Destination   3000 non-null   object \n",
      "dtypes: float64(2), int64(2), object(6)\n",
      "memory usage: 234.5+ KB\n"
     ]
    }
   ],
   "source": [
    "df.info()"
   ]
  },
  {
   "cell_type": "code",
   "execution_count": 1108,
   "metadata": {},
   "outputs": [
    {
     "name": "stdout",
     "output_type": "stream",
     "text": [
      "The number of rows (observations) is: 3000 \n",
      "The number of columns(variables) is: 10\n"
     ]
    }
   ],
   "source": [
    "print('The number of rows (observations) is:',df.shape[0],'\\n''The number of columns(variables) is:',df.shape[1])"
   ]
  },
  {
   "cell_type": "code",
   "execution_count": 1109,
   "metadata": {},
   "outputs": [
    {
     "data": {
      "text/plain": [
       "30000"
      ]
     },
     "execution_count": 1109,
     "metadata": {},
     "output_type": "execute_result"
    }
   ],
   "source": [
    "df.size"
   ]
  },
  {
   "cell_type": "code",
   "execution_count": 1110,
   "metadata": {},
   "outputs": [
    {
     "data": {
      "text/plain": [
       "Age               int64\n",
       "Agency_Code      object\n",
       "Type             object\n",
       "Claimed          object\n",
       "Commision       float64\n",
       "Channel          object\n",
       "Duration          int64\n",
       "Sales           float64\n",
       "Product Name     object\n",
       "Destination      object\n",
       "dtype: object"
      ]
     },
     "execution_count": 1110,
     "metadata": {},
     "output_type": "execute_result"
    }
   ],
   "source": [
    "df.dtypes"
   ]
  },
  {
   "cell_type": "markdown",
   "metadata": {},
   "source": [
    "There are many object type variables (Agency_Code, Type, Claimed, Channel, Product Name , Destination) which has the object data types.\n"
   ]
  },
  {
   "cell_type": "code",
   "execution_count": 1111,
   "metadata": {},
   "outputs": [
    {
     "data": {
      "text/html": [
       "<div>\n",
       "<style scoped>\n",
       "    .dataframe tbody tr th:only-of-type {\n",
       "        vertical-align: middle;\n",
       "    }\n",
       "\n",
       "    .dataframe tbody tr th {\n",
       "        vertical-align: top;\n",
       "    }\n",
       "\n",
       "    .dataframe thead th {\n",
       "        text-align: right;\n",
       "    }\n",
       "</style>\n",
       "<table border=\"1\" class=\"dataframe\">\n",
       "  <thead>\n",
       "    <tr style=\"text-align: right;\">\n",
       "      <th></th>\n",
       "      <th>Age</th>\n",
       "      <th>Agency_Code</th>\n",
       "      <th>Type</th>\n",
       "      <th>Claimed</th>\n",
       "      <th>Commision</th>\n",
       "      <th>Channel</th>\n",
       "      <th>Duration</th>\n",
       "      <th>Sales</th>\n",
       "      <th>Product Name</th>\n",
       "      <th>Destination</th>\n",
       "    </tr>\n",
       "  </thead>\n",
       "  <tbody>\n",
       "    <tr>\n",
       "      <th>0</th>\n",
       "      <td>48</td>\n",
       "      <td>C2B</td>\n",
       "      <td>Airlines</td>\n",
       "      <td>No</td>\n",
       "      <td>0.70</td>\n",
       "      <td>Online</td>\n",
       "      <td>7</td>\n",
       "      <td>2.51</td>\n",
       "      <td>Customised Plan</td>\n",
       "      <td>ASIA</td>\n",
       "    </tr>\n",
       "    <tr>\n",
       "      <th>1</th>\n",
       "      <td>36</td>\n",
       "      <td>EPX</td>\n",
       "      <td>Travel Agency</td>\n",
       "      <td>No</td>\n",
       "      <td>0.00</td>\n",
       "      <td>Online</td>\n",
       "      <td>34</td>\n",
       "      <td>20.00</td>\n",
       "      <td>Customised Plan</td>\n",
       "      <td>ASIA</td>\n",
       "    </tr>\n",
       "    <tr>\n",
       "      <th>2</th>\n",
       "      <td>39</td>\n",
       "      <td>CWT</td>\n",
       "      <td>Travel Agency</td>\n",
       "      <td>No</td>\n",
       "      <td>5.94</td>\n",
       "      <td>Online</td>\n",
       "      <td>3</td>\n",
       "      <td>9.90</td>\n",
       "      <td>Customised Plan</td>\n",
       "      <td>Americas</td>\n",
       "    </tr>\n",
       "    <tr>\n",
       "      <th>3</th>\n",
       "      <td>36</td>\n",
       "      <td>EPX</td>\n",
       "      <td>Travel Agency</td>\n",
       "      <td>No</td>\n",
       "      <td>0.00</td>\n",
       "      <td>Online</td>\n",
       "      <td>4</td>\n",
       "      <td>26.00</td>\n",
       "      <td>Cancellation Plan</td>\n",
       "      <td>ASIA</td>\n",
       "    </tr>\n",
       "    <tr>\n",
       "      <th>4</th>\n",
       "      <td>33</td>\n",
       "      <td>JZI</td>\n",
       "      <td>Airlines</td>\n",
       "      <td>No</td>\n",
       "      <td>6.30</td>\n",
       "      <td>Online</td>\n",
       "      <td>53</td>\n",
       "      <td>18.00</td>\n",
       "      <td>Bronze Plan</td>\n",
       "      <td>ASIA</td>\n",
       "    </tr>\n",
       "  </tbody>\n",
       "</table>\n",
       "</div>"
      ],
      "text/plain": [
       "   Age Agency_Code           Type Claimed  Commision Channel  Duration  Sales  \\\n",
       "0   48         C2B       Airlines      No       0.70  Online         7   2.51   \n",
       "1   36         EPX  Travel Agency      No       0.00  Online        34  20.00   \n",
       "2   39         CWT  Travel Agency      No       5.94  Online         3   9.90   \n",
       "3   36         EPX  Travel Agency      No       0.00  Online         4  26.00   \n",
       "4   33         JZI       Airlines      No       6.30  Online        53  18.00   \n",
       "\n",
       "        Product Name Destination  \n",
       "0    Customised Plan        ASIA  \n",
       "1    Customised Plan        ASIA  \n",
       "2    Customised Plan    Americas  \n",
       "3  Cancellation Plan        ASIA  \n",
       "4        Bronze Plan        ASIA  "
      ]
     },
     "execution_count": 1111,
     "metadata": {},
     "output_type": "execute_result"
    }
   ],
   "source": [
    "df.head()"
   ]
  },
  {
   "cell_type": "code",
   "execution_count": 1112,
   "metadata": {},
   "outputs": [
    {
     "data": {
      "text/plain": [
       "array([48, 36, 39, 33, 45, 61, 37, 43, 52, 31, 23, 29, 28, 27, 44, 46, 25,\n",
       "       60, 30, 40, 32, 26, 38, 42, 51, 24, 59, 41, 56, 35, 58, 73, 47, 50,\n",
       "       22, 20, 53, 68, 34, 79, 19, 21, 66, 69, 57, 63, 54, 64, 71, 49, 62,\n",
       "       84, 17, 55, 76, 72, 65, 67, 75, 70, 18, 77, 14, 81, 74,  8, 16, 83,\n",
       "       15, 11], dtype=int64)"
      ]
     },
     "execution_count": 1112,
     "metadata": {},
     "output_type": "execute_result"
    }
   ],
   "source": [
    "df['Age'].unique()"
   ]
  },
  {
   "cell_type": "code",
   "execution_count": 1113,
   "metadata": {},
   "outputs": [
    {
     "data": {
      "text/plain": [
       "array([7.0000e-01, 0.0000e+00, 5.9400e+00, 6.3000e+00, 1.5750e+01,\n",
       "       3.5640e+01, 4.6960e+01, 1.5880e+01, 5.8800e+00, 2.3760e+01,\n",
       "       5.4000e+01, 5.9400e+01, 1.8200e+01, 1.7250e+01, 6.2500e+00,\n",
       "       1.4000e+01, 2.5550e+01, 7.7000e+00, 1.5000e+01, 2.0380e+01,\n",
       "       9.7500e+00, 1.6250e+01, 7.3800e+00, 3.1500e+00, 4.0250e+01,\n",
       "       1.1550e+01, 8.3800e+00, 6.3210e+01, 4.1580e+01, 7.6400e+00,\n",
       "       1.0500e+01, 2.3500e+01, 4.8300e+01, 2.2130e+01, 4.8000e+00,\n",
       "       6.7500e+00, 1.1750e+01, 5.2330e+01, 5.2500e+00, 9.1000e+00,\n",
       "       8.8800e+00, 8.3250e+01, 3.8000e-01, 2.6630e+01, 7.7000e-01,\n",
       "       6.0000e+00, 5.3460e+01, 1.2250e+01, 1.7550e+01, 2.0000e+01,\n",
       "       1.7820e+01, 7.7220e+01, 1.1880e+01, 1.2950e+01, 1.4937e+02,\n",
       "       2.9700e+01, 2.7300e+01, 2.8500e+01, 4.5000e+00, 5.8500e+00,\n",
       "       4.1420e+01, 2.0130e+01, 4.9730e+01, 4.2500e+00, 4.8420e+01,\n",
       "       5.3800e+00, 1.3630e+01, 2.2000e+01, 1.0692e+02, 8.3160e+01,\n",
       "       4.7520e+01, 6.9710e+01, 6.4800e+01, 3.6400e+01, 5.0000e+00,\n",
       "       1.5400e+01, 3.8000e+00, 1.2130e+01, 1.2675e+02, 9.5700e+00,\n",
       "       2.1021e+02, 3.1200e+01, 2.6600e+00, 4.0000e+00, 1.0380e+01,\n",
       "       1.8000e+01, 7.2940e+01, 2.9000e-01, 2.4150e+01, 5.6300e+00,\n",
       "       1.2400e+01, 1.0098e+02, 3.3800e+00, 6.1300e+00, 1.2750e+01,\n",
       "       5.9800e+00, 6.5340e+01, 2.4380e+01, 1.2630e+01, 2.2040e+01,\n",
       "       7.4260e+01, 9.5040e+01, 6.6300e+00, 2.9050e+01, 1.5600e+01,\n",
       "       2.6000e+01, 4.9000e-01, 1.0300e+02, 1.8850e+01, 2.3730e+01,\n",
       "       7.1280e+01, 1.0800e+02, 2.3630e+01, 3.6000e+01, 2.0816e+02,\n",
       "       1.3380e+01, 1.1200e+00, 6.8900e+01, 2.1450e+01, 8.8500e+00,\n",
       "       1.0000e+01, 1.9600e+01, 5.7750e+01, 1.8800e+00, 9.6000e-01,\n",
       "       1.1286e+02, 1.1700e+01, 1.5500e+01, 2.1600e+01, 2.0640e+01,\n",
       "       7.2500e+00, 5.5300e+00, 2.4860e+01, 2.1130e+01, 4.6300e+00,\n",
       "       5.9500e+01, 1.6653e+02, 4.3900e+00, 7.4700e+00, 9.2000e+00,\n",
       "       1.1231e+02, 2.6200e+00, 9.7340e+01, 1.0640e+01, 1.7380e+01,\n",
       "       3.3000e+01, 2.6400e+01, 4.0750e+01, 7.5600e+01, 2.5600e+00,\n",
       "       3.3600e+01, 2.3000e-01, 1.6410e+01, 7.0200e+01, 3.5000e+01,\n",
       "       8.4900e+00, 1.2288e+02, 1.1020e+01, 2.5250e+01, 1.8620e+01,\n",
       "       1.4130e+01, 7.5250e+01, 3.7000e+01, 5.7500e+00, 9.3800e+00,\n",
       "       1.6750e+01, 2.4800e+01, 3.2160e+01, 1.1380e+01, 6.0100e+00,\n",
       "       1.7290e+01, 1.7230e+01, 2.8130e+01, 1.3300e+00, 5.6000e-01,\n",
       "       2.8800e+01, 5.0000e-02, 5.1750e+01, 1.2200e+00, 7.1300e+00,\n",
       "       1.7130e+01, 1.8400e+00, 5.9880e+01, 2.1500e+01, 1.4256e+02,\n",
       "       6.0000e+01, 4.6250e+01, 4.0950e+01, 1.3475e+02, 1.8000e-01,\n",
       "       6.5000e+00, 2.4750e+01, 1.7750e+01, 6.4380e+01, 1.0130e+01,\n",
       "       3.6000e-01, 4.2000e+00, 3.7200e+01, 4.9400e+01, 6.8080e+01,\n",
       "       8.7000e+00, 3.0550e+01, 1.5560e+01, 1.2500e+00, 1.7150e+01,\n",
       "       4.3550e+01, 2.0800e+02, 2.4500e+01, 9.9900e+01, 1.2474e+02,\n",
       "       6.3800e+00, 2.8250e+01, 1.4380e+01, 1.6270e+01, 1.2500e+01,\n",
       "       6.3350e+01, 9.2500e+00, 8.9100e+01, 1.0300e+00, 4.1440e+01,\n",
       "       2.5130e+01, 1.4440e+01, 2.1000e+01, 5.4000e-01, 8.6300e+00,\n",
       "       2.1850e+01, 1.8600e+01, 7.6700e+00, 1.9140e+01, 1.4000e-01,\n",
       "       1.3200e+01, 1.9070e+01, 1.4160e+01, 5.0000e-01, 3.6100e+01,\n",
       "       2.5000e-01, 4.4690e+01, 2.3750e+01, 2.1000e-01, 1.9600e+00,\n",
       "       1.2540e+01, 8.1000e-01, 1.0725e+02, 7.3500e+00, 5.7130e+01,\n",
       "       4.6800e+01, 3.1750e+01, 4.9600e+01, 1.2070e+01, 3.2680e+01,\n",
       "       2.3400e+01, 1.3299e+02, 1.3250e+01, 1.6038e+02, 4.4500e+01,\n",
       "       1.0150e+01, 8.8100e+00, 3.4380e+01, 1.8560e+01, 1.4460e+01,\n",
       "       2.8000e+01, 6.7750e+01, 5.7400e+01, 9.5900e+00, 2.9000e+01,\n",
       "       2.0060e+01, 3.7500e+00, 9.1300e+00, 6.9400e+00, 3.0000e+01,\n",
       "       1.2380e+01, 6.8800e+00, 1.0890e+01, 3.2000e+01, 2.7000e+01,\n",
       "       1.8130e+01, 2.1350e+01, 5.0600e+00, 5.8350e+01, 2.0300e+01,\n",
       "       8.1300e+00, 1.9130e+01, 1.6450e+01, 2.4000e+01, 2.0000e+00,\n",
       "       8.4130e+01, 9.7250e+01, 2.5000e+01, 6.3380e+01, 4.3060e+01,\n",
       "       4.5500e+01, 1.7710e+01, 2.9130e+01, 2.0250e+01, 5.0250e+01,\n",
       "       1.0250e+01, 2.6400e+00, 1.1860e+01, 5.8450e+01, 1.8300e+00,\n",
       "       3.4000e+01, 3.9200e+00, 3.0100e+00, 4.1250e+01, 7.5000e+00,\n",
       "       1.3310e+01, 3.4130e+01, 1.2450e+01, 3.1000e+01, 1.7390e+01,\n",
       "       3.0450e+01, 1.3490e+01, 2.3000e+01, 9.0000e-02, 4.1270e+01,\n",
       "       2.7250e+01, 1.1250e+01, 9.0090e+01, 2.8100e+00, 1.4950e+02,\n",
       "       1.3750e+01, 1.2000e+01, 7.1850e+01, 1.3500e+01])"
      ]
     },
     "execution_count": 1113,
     "metadata": {},
     "output_type": "execute_result"
    }
   ],
   "source": [
    "df['Commision'].unique()"
   ]
  },
  {
   "cell_type": "code",
   "execution_count": 1114,
   "metadata": {},
   "outputs": [
    {
     "data": {
      "text/plain": [
       "array(['Online', 'Offline'], dtype=object)"
      ]
     },
     "execution_count": 1114,
     "metadata": {},
     "output_type": "execute_result"
    }
   ],
   "source": [
    "df['Channel'].unique()"
   ]
  },
  {
   "cell_type": "code",
   "execution_count": 1115,
   "metadata": {},
   "outputs": [
    {
     "data": {
      "text/plain": [
       "array([   7,   34,    3,    4,   53,    8,   30,   16,   19,   42,  368,\n",
       "         77,   23,   21,  366,    2,   40,   33,   66,   71,   25,   29,\n",
       "         31,   36,   70,   11,   27,   32,   20,   90,   17,   14,    5,\n",
       "         75,   35,   24,   22,  364,   13,   15,    6,   37,  365,   38,\n",
       "         81,   96,   28,   44,   57,   51,   26,  367,   12,    9,  110,\n",
       "         58,   65,  100,  186,   39,   48,   46,  266,   72,   61,   43,\n",
       "         18,  146,   10,   59,   93,   56,   50,   99,  135,  382,   47,\n",
       "         74,   64,  379,  152,  112,  380,  189,   60,   41,   89,   95,\n",
       "        383,   62,  374,   55,  401,  145,   80,   83,    1,   52,  114,\n",
       "         63,   49,   69,   67,  109,  105,   54,   98,  259,  239,  102,\n",
       "        166,  165,  107,  385,   68,   73,  144,  126,  116,   45,  113,\n",
       "        111,  378,   82,  187,  394,  147,   88,  175,   87,  402,  393,\n",
       "        224,  384,  244,  148,  209,  132,  377,  235,   79,  101,  158,\n",
       "        120,  376,  125,  386,  162,  375,   76,  164,   78,  428,  129,\n",
       "        396,  392,  121,  203,  185,  369,   91,  119,  398,  138,  372,\n",
       "        289,  216,  123,  370,  280,  115,   85,  131,  103,  198,   84,\n",
       "        281,  204,  234,   86,  391,  167,  156,  202,  128,  171,  118,\n",
       "        160,  180,  390,  173,   92,  191,  229,   97,  159,  431,  208,\n",
       "        106,  397,   94,  130,   -1,  172,  388,  108,  215,  373,  141,\n",
       "        395,    0,  232,  124,  179,  177,  122,  195,  371,  334,  273,\n",
       "        153,  104,  413,  201,  217,  168,  387,  155,  278,  434,  212,\n",
       "        421,  226,  163,  309,  149,  417,  197,  142,  222,  154,  218,\n",
       "        389,  276,  139,  381,  190,  303,  134,  137,  419,  127, 4580,\n",
       "        184,  223,  466,  416], dtype=int64)"
      ]
     },
     "execution_count": 1115,
     "metadata": {},
     "output_type": "execute_result"
    }
   ],
   "source": [
    "df['Duration'].unique()"
   ]
  },
  {
   "cell_type": "code",
   "execution_count": 1116,
   "metadata": {},
   "outputs": [
    {
     "data": {
      "text/plain": [
       "array([2.5100e+00, 2.0000e+01, 9.9000e+00, 2.6000e+01, 1.8000e+01,\n",
       "       4.5000e+01, 5.9400e+01, 8.0000e+01, 1.4000e+01, 4.3000e+01,\n",
       "       1.8785e+02, 6.3500e+01, 1.1000e+02, 2.3500e+01, 3.9600e+01,\n",
       "       2.1600e+02, 4.2000e+01, 9.9000e+01, 5.2000e+01, 3.2000e+01,\n",
       "       6.2000e+01, 6.9000e+01, 2.5000e+01, 5.1000e+01, 4.0000e+01,\n",
       "       3.0000e+01, 2.7000e+01, 5.0000e+01, 2.2000e+01, 6.0000e+01,\n",
       "       8.1500e+01, 3.7000e+01, 3.9000e+01, 5.6000e+01, 2.8000e+01,\n",
       "       2.9500e+01, 1.1240e+01, 2.4000e+01, 1.6100e+02, 3.3000e+01,\n",
       "       1.7000e+01, 3.3500e+01, 2.5285e+02, 1.0000e+01, 2.3000e+01,\n",
       "       6.9300e+01, 3.0550e+01, 1.9000e+01, 1.1200e+02, 9.5000e+01,\n",
       "       9.4000e+01, 1.9320e+02, 8.8500e+01, 1.9200e+01, 1.1000e+01,\n",
       "       7.5000e+01, 4.7000e+01, 2.0930e+02, 2.1000e+01, 1.5000e+02,\n",
       "       3.5500e+01, 3.3300e+02, 1.3500e+00, 1.0650e+02, 2.7600e+00,\n",
       "       2.9000e+01, 1.5000e+01, 8.9100e+01, 3.5000e+01, 3.8000e+01,\n",
       "       2.9700e+01, 1.2000e+01, 1.2870e+02, 1.9800e+01, 0.0000e+00,\n",
       "       2.2980e+02, 8.2000e+01, 1.9100e+02, 8.7000e+01, 4.9500e+01,\n",
       "       4.9000e+01, 2.3400e+01, 1.0900e+02, 8.0500e+01, 1.6700e+02,\n",
       "       3.1000e+01, 1.9370e+02, 6.1000e+01, 2.1500e+01, 5.4500e+01,\n",
       "       8.8000e+01, 1.7820e+02, 1.3860e+02, 7.9200e+01, 2.7885e+02,\n",
       "       2.5920e+02, 7.4000e+01, 9.7000e+01, 4.8000e+01, 4.4000e+01,\n",
       "       5.8000e+01, 7.8000e+01, 4.1000e+01, 1.3570e+01, 4.8500e+01,\n",
       "       5.0700e+02, 1.5600e+02, 6.3000e+01, 3.2340e+02, 7.6000e+00,\n",
       "       4.1500e+01, 7.2000e+01, 2.9175e+02, 1.0300e+00, 1.6000e+01,\n",
       "       3.4000e+01, 2.0600e+02, 1.6600e+02, 2.2500e+01, 4.6000e+01,\n",
       "       2.0300e+02, 1.3500e+01, 1.8500e+02, 1.3800e+02, 2.4500e+01,\n",
       "       1.9000e+02, 2.0500e+02, 6.7000e+01, 2.1350e+01, 1.0890e+02,\n",
       "       3.7500e+01, 5.0500e+01, 2.9705e+02, 2.4870e+01, 1.5840e+02,\n",
       "       2.6500e+01, 1.6200e+02, 8.3000e+01, 6.8000e+01, 6.2400e+01,\n",
       "       1.4800e+02, 1.7500e+02, 1.5700e+02, 4.1200e+02, 1.3000e+01,\n",
       "       3.6500e+01, 7.7000e+01, 1.1880e+02, 1.0100e+02, 3.6000e+01,\n",
       "       4.3200e+02, 9.4500e+01, 5.4000e+01, 1.4300e+02, 3.2025e+02,\n",
       "       5.3500e+01, 3.9900e+00, 1.0600e+02, 3.5400e+01, 2.3100e+02,\n",
       "       6.6900e+00, 3.4300e+00, 1.8810e+02, 4.6800e+01, 5.9000e+01,\n",
       "       8.6400e+01, 8.2550e+01, 2.2100e+01, 9.9450e+01, 2.0200e+02,\n",
       "       8.4500e+01, 1.8500e+01, 2.3800e+02, 2.5620e+02, 1.7550e+01,\n",
       "       2.9900e+01, 7.6000e+01, 5.5000e+01, 1.7000e+02, 3.4400e+00,\n",
       "       5.7000e+01, 2.0800e+02, 7.3000e+01, 2.0100e+02, 9.0000e+01,\n",
       "       4.4925e+02, 1.8870e+01, 9.3300e+00, 3.8935e+02, 6.9500e+01,\n",
       "       2.0860e+02, 1.0560e+02, 3.0240e+02, 1.7200e+02, 9.1300e+00,\n",
       "       8.9000e+01, 9.6000e+01, 8.4000e+01, 8.3000e-01, 6.5650e+01,\n",
       "       2.8080e+02, 7.0000e+01, 2.4260e+01, 4.9150e+02, 5.6500e+01,\n",
       "       3.0100e+02, 2.3870e+01, 9.1880e+01, 5.3000e+01, 4.5500e+01,\n",
       "       2.4050e+01, 6.6000e+01, 4.9390e+01, 1.6500e+02, 1.4900e+02,\n",
       "       1.1250e+02, 4.7600e+00, 1.9800e+00, 1.9000e-01, 2.0700e+02,\n",
       "       1.0400e+02, 4.3700e+00, 2.8500e+01, 6.8500e+01, 2.0400e+02,\n",
       "       1.5500e+02, 6.5600e+00, 2.3950e+02, 1.5200e+02, 7.1000e+01,\n",
       "       8.6000e+01, 8.5000e+01, 2.3760e+02, 1.9700e+02, 2.0000e+02,\n",
       "       6.5000e+01, 5.3900e+02, 2.5200e+01, 1.5100e+02, 6.4000e-01,\n",
       "       1.7100e+02, 1.5900e+02, 1.7700e+02, 1.9900e+00, 1.9400e+02,\n",
       "       2.5750e+02, 4.0500e+01, 1.2900e+00, 1.4990e+01, 1.6900e+02,\n",
       "       1.7600e+02, 9.3000e+01, 2.7230e+02, 6.4000e+01, 3.4800e+01,\n",
       "       6.2250e+01, 4.4400e+00, 3.2000e+02, 9.8000e+01, 3.9960e+02,\n",
       "       2.0790e+02, 1.8100e+02, 2.5500e+01, 4.3600e+00, 1.8300e+02,\n",
       "       1.1300e+02, 1.8800e+02, 1.8700e+02, 5.7500e+01, 9.1000e+01,\n",
       "       4.6490e+01, 1.0000e+02, 4.7500e+01, 1.4850e+02, 1.9800e+02,\n",
       "       3.6800e+00, 1.6575e+02, 1.0050e+02, 1.6000e+02, 1.9300e+00,\n",
       "       3.4500e+01, 6.2430e+01, 7.4400e+01, 2.1920e+01, 7.9000e+01,\n",
       "       5.1000e-01, 1.8200e+02, 5.2800e+01, 7.6300e+01, 4.0460e+01,\n",
       "       8.8000e-01, 1.7875e+02, 1.0200e+02, 7.4000e-01, 1.0000e+00,\n",
       "       7.0000e+00, 1.5300e+02, 1.7400e+02, 2.8800e+00, 2.9400e+01,\n",
       "       2.2850e+02, 1.7800e+02, 1.7900e+02, 1.1700e+02, 1.9600e+02,\n",
       "       1.2700e+02, 1.2400e+02, 4.8300e+01, 1.9900e+02, 1.5400e+02,\n",
       "       9.3600e+01, 1.8900e+02, 2.0460e+02, 1.8000e+02, 2.6730e+02,\n",
       "       3.5250e+01, 1.3750e+02, 7.4250e+01, 5.7850e+01, 2.7100e+02,\n",
       "       1.6400e+02, 3.8350e+01, 8.1000e+01, 1.9300e+02, 1.7300e+02,\n",
       "       2.0900e+02, 8.0250e+01, 1.7870e+01, 1.9200e+02, 2.1870e+01,\n",
       "       1.6300e+02, 2.7750e+01, 2.0560e+02, 1.8600e+02, 2.7500e+01,\n",
       "       4.3550e+01, 2.0760e+02, 1.0300e+02, 7.2500e+01, 2.0250e+01,\n",
       "       2.3340e+02, 3.2500e+01, 7.6500e+01, 1.2800e+02, 7.1500e+00,\n",
       "       3.3650e+02, 3.8900e+02, 2.5350e+02, 1.7225e+02, 7.0850e+01,\n",
       "       1.1650e+02, 1.4500e+02, 7.5500e+00, 1.6800e+02, 4.7450e+01,\n",
       "       5.2300e+00, 2.0960e+02, 1.1190e+01, 1.6830e+02, 1.0740e+01,\n",
       "       5.3250e+01, 2.0870e+01, 1.3650e+02, 4.9800e+01, 1.8400e+02,\n",
       "       2.5870e+01, 2.0660e+02, 6.9550e+01, 1.5800e+02, 5.3950e+01,\n",
       "       1.9500e+02, 3.2000e-01, 2.2870e+01, 6.8600e+01, 1.0040e+01,\n",
       "       2.3000e+02, 1.4400e+02, 1.9870e+01, 1.4700e+02, 2.8740e+02])"
      ]
     },
     "execution_count": 1116,
     "metadata": {},
     "output_type": "execute_result"
    }
   ],
   "source": [
    "df['Sales'].unique()"
   ]
  },
  {
   "cell_type": "markdown",
   "metadata": {},
   "source": [
    "### Check for duplicate data"
   ]
  },
  {
   "cell_type": "code",
   "execution_count": 1117,
   "metadata": {},
   "outputs": [
    {
     "data": {
      "text/html": [
       "<div>\n",
       "<style scoped>\n",
       "    .dataframe tbody tr th:only-of-type {\n",
       "        vertical-align: middle;\n",
       "    }\n",
       "\n",
       "    .dataframe tbody tr th {\n",
       "        vertical-align: top;\n",
       "    }\n",
       "\n",
       "    .dataframe thead th {\n",
       "        text-align: right;\n",
       "    }\n",
       "</style>\n",
       "<table border=\"1\" class=\"dataframe\">\n",
       "  <thead>\n",
       "    <tr style=\"text-align: right;\">\n",
       "      <th></th>\n",
       "      <th>Age</th>\n",
       "      <th>Agency_Code</th>\n",
       "      <th>Type</th>\n",
       "      <th>Claimed</th>\n",
       "      <th>Commision</th>\n",
       "      <th>Channel</th>\n",
       "      <th>Duration</th>\n",
       "      <th>Sales</th>\n",
       "      <th>Product Name</th>\n",
       "      <th>Destination</th>\n",
       "    </tr>\n",
       "  </thead>\n",
       "  <tbody>\n",
       "    <tr>\n",
       "      <th>63</th>\n",
       "      <td>30</td>\n",
       "      <td>C2B</td>\n",
       "      <td>Airlines</td>\n",
       "      <td>Yes</td>\n",
       "      <td>15.0</td>\n",
       "      <td>Online</td>\n",
       "      <td>27</td>\n",
       "      <td>60.0</td>\n",
       "      <td>Bronze Plan</td>\n",
       "      <td>ASIA</td>\n",
       "    </tr>\n",
       "    <tr>\n",
       "      <th>329</th>\n",
       "      <td>36</td>\n",
       "      <td>EPX</td>\n",
       "      <td>Travel Agency</td>\n",
       "      <td>No</td>\n",
       "      <td>0.0</td>\n",
       "      <td>Online</td>\n",
       "      <td>5</td>\n",
       "      <td>20.0</td>\n",
       "      <td>Customised Plan</td>\n",
       "      <td>ASIA</td>\n",
       "    </tr>\n",
       "    <tr>\n",
       "      <th>407</th>\n",
       "      <td>36</td>\n",
       "      <td>EPX</td>\n",
       "      <td>Travel Agency</td>\n",
       "      <td>No</td>\n",
       "      <td>0.0</td>\n",
       "      <td>Online</td>\n",
       "      <td>11</td>\n",
       "      <td>19.0</td>\n",
       "      <td>Cancellation Plan</td>\n",
       "      <td>ASIA</td>\n",
       "    </tr>\n",
       "    <tr>\n",
       "      <th>411</th>\n",
       "      <td>35</td>\n",
       "      <td>EPX</td>\n",
       "      <td>Travel Agency</td>\n",
       "      <td>No</td>\n",
       "      <td>0.0</td>\n",
       "      <td>Online</td>\n",
       "      <td>2</td>\n",
       "      <td>20.0</td>\n",
       "      <td>Customised Plan</td>\n",
       "      <td>ASIA</td>\n",
       "    </tr>\n",
       "    <tr>\n",
       "      <th>422</th>\n",
       "      <td>36</td>\n",
       "      <td>EPX</td>\n",
       "      <td>Travel Agency</td>\n",
       "      <td>No</td>\n",
       "      <td>0.0</td>\n",
       "      <td>Online</td>\n",
       "      <td>5</td>\n",
       "      <td>20.0</td>\n",
       "      <td>Customised Plan</td>\n",
       "      <td>ASIA</td>\n",
       "    </tr>\n",
       "    <tr>\n",
       "      <th>...</th>\n",
       "      <td>...</td>\n",
       "      <td>...</td>\n",
       "      <td>...</td>\n",
       "      <td>...</td>\n",
       "      <td>...</td>\n",
       "      <td>...</td>\n",
       "      <td>...</td>\n",
       "      <td>...</td>\n",
       "      <td>...</td>\n",
       "      <td>...</td>\n",
       "    </tr>\n",
       "    <tr>\n",
       "      <th>2940</th>\n",
       "      <td>36</td>\n",
       "      <td>EPX</td>\n",
       "      <td>Travel Agency</td>\n",
       "      <td>No</td>\n",
       "      <td>0.0</td>\n",
       "      <td>Online</td>\n",
       "      <td>8</td>\n",
       "      <td>10.0</td>\n",
       "      <td>Cancellation Plan</td>\n",
       "      <td>ASIA</td>\n",
       "    </tr>\n",
       "    <tr>\n",
       "      <th>2947</th>\n",
       "      <td>36</td>\n",
       "      <td>EPX</td>\n",
       "      <td>Travel Agency</td>\n",
       "      <td>No</td>\n",
       "      <td>0.0</td>\n",
       "      <td>Online</td>\n",
       "      <td>10</td>\n",
       "      <td>28.0</td>\n",
       "      <td>Customised Plan</td>\n",
       "      <td>ASIA</td>\n",
       "    </tr>\n",
       "    <tr>\n",
       "      <th>2952</th>\n",
       "      <td>36</td>\n",
       "      <td>EPX</td>\n",
       "      <td>Travel Agency</td>\n",
       "      <td>No</td>\n",
       "      <td>0.0</td>\n",
       "      <td>Online</td>\n",
       "      <td>2</td>\n",
       "      <td>10.0</td>\n",
       "      <td>Cancellation Plan</td>\n",
       "      <td>ASIA</td>\n",
       "    </tr>\n",
       "    <tr>\n",
       "      <th>2962</th>\n",
       "      <td>36</td>\n",
       "      <td>EPX</td>\n",
       "      <td>Travel Agency</td>\n",
       "      <td>No</td>\n",
       "      <td>0.0</td>\n",
       "      <td>Online</td>\n",
       "      <td>4</td>\n",
       "      <td>20.0</td>\n",
       "      <td>Customised Plan</td>\n",
       "      <td>ASIA</td>\n",
       "    </tr>\n",
       "    <tr>\n",
       "      <th>2984</th>\n",
       "      <td>36</td>\n",
       "      <td>EPX</td>\n",
       "      <td>Travel Agency</td>\n",
       "      <td>No</td>\n",
       "      <td>0.0</td>\n",
       "      <td>Online</td>\n",
       "      <td>1</td>\n",
       "      <td>20.0</td>\n",
       "      <td>Customised Plan</td>\n",
       "      <td>ASIA</td>\n",
       "    </tr>\n",
       "  </tbody>\n",
       "</table>\n",
       "<p>139 rows × 10 columns</p>\n",
       "</div>"
      ],
      "text/plain": [
       "      Age Agency_Code           Type Claimed  Commision Channel  Duration  \\\n",
       "63     30         C2B       Airlines     Yes       15.0  Online        27   \n",
       "329    36         EPX  Travel Agency      No        0.0  Online         5   \n",
       "407    36         EPX  Travel Agency      No        0.0  Online        11   \n",
       "411    35         EPX  Travel Agency      No        0.0  Online         2   \n",
       "422    36         EPX  Travel Agency      No        0.0  Online         5   \n",
       "...   ...         ...            ...     ...        ...     ...       ...   \n",
       "2940   36         EPX  Travel Agency      No        0.0  Online         8   \n",
       "2947   36         EPX  Travel Agency      No        0.0  Online        10   \n",
       "2952   36         EPX  Travel Agency      No        0.0  Online         2   \n",
       "2962   36         EPX  Travel Agency      No        0.0  Online         4   \n",
       "2984   36         EPX  Travel Agency      No        0.0  Online         1   \n",
       "\n",
       "      Sales       Product Name Destination  \n",
       "63     60.0        Bronze Plan        ASIA  \n",
       "329    20.0    Customised Plan        ASIA  \n",
       "407    19.0  Cancellation Plan        ASIA  \n",
       "411    20.0    Customised Plan        ASIA  \n",
       "422    20.0    Customised Plan        ASIA  \n",
       "...     ...                ...         ...  \n",
       "2940   10.0  Cancellation Plan        ASIA  \n",
       "2947   28.0    Customised Plan        ASIA  \n",
       "2952   10.0  Cancellation Plan        ASIA  \n",
       "2962   20.0    Customised Plan        ASIA  \n",
       "2984   20.0    Customised Plan        ASIA  \n",
       "\n",
       "[139 rows x 10 columns]"
      ]
     },
     "execution_count": 1117,
     "metadata": {},
     "output_type": "execute_result"
    }
   ],
   "source": [
    "duplicate = df[df.duplicated()] \n",
    "duplicate"
   ]
  },
  {
   "cell_type": "markdown",
   "metadata": {},
   "source": [
    "Though it shows there are 139 records, considering the fact that it can be of different customers. We are not droping the same."
   ]
  },
  {
   "cell_type": "code",
   "execution_count": 1118,
   "metadata": {},
   "outputs": [
    {
     "data": {
      "text/plain": [
       "(139, 10)"
      ]
     },
     "execution_count": 1118,
     "metadata": {},
     "output_type": "execute_result"
    }
   ],
   "source": [
    "duplicate.shape"
   ]
  },
  {
   "cell_type": "markdown",
   "metadata": {},
   "source": [
    "### Proportion of observations in each of the target classes"
   ]
  },
  {
   "cell_type": "code",
   "execution_count": 1119,
   "metadata": {},
   "outputs": [
    {
     "data": {
      "text/plain": [
       "No     2076\n",
       "Yes     924\n",
       "Name: Claimed, dtype: int64"
      ]
     },
     "execution_count": 1119,
     "metadata": {},
     "output_type": "execute_result"
    }
   ],
   "source": [
    "df['Claimed'].value_counts()"
   ]
  },
  {
   "cell_type": "code",
   "execution_count": 1120,
   "metadata": {},
   "outputs": [
    {
     "data": {
      "text/html": [
       "<div>\n",
       "<style scoped>\n",
       "    .dataframe tbody tr th:only-of-type {\n",
       "        vertical-align: middle;\n",
       "    }\n",
       "\n",
       "    .dataframe tbody tr th {\n",
       "        vertical-align: top;\n",
       "    }\n",
       "\n",
       "    .dataframe thead th {\n",
       "        text-align: right;\n",
       "    }\n",
       "</style>\n",
       "<table border=\"1\" class=\"dataframe\">\n",
       "  <thead>\n",
       "    <tr style=\"text-align: right;\">\n",
       "      <th></th>\n",
       "      <th>Age</th>\n",
       "      <th>Agency_Code</th>\n",
       "      <th>Type</th>\n",
       "      <th>Claimed</th>\n",
       "      <th>Commision</th>\n",
       "      <th>Channel</th>\n",
       "      <th>Duration</th>\n",
       "      <th>Sales</th>\n",
       "      <th>Product Name</th>\n",
       "      <th>Destination</th>\n",
       "    </tr>\n",
       "  </thead>\n",
       "  <tbody>\n",
       "    <tr>\n",
       "      <th>0</th>\n",
       "      <td>48</td>\n",
       "      <td>C2B</td>\n",
       "      <td>Airlines</td>\n",
       "      <td>0</td>\n",
       "      <td>0.70</td>\n",
       "      <td>Online</td>\n",
       "      <td>7</td>\n",
       "      <td>2.51</td>\n",
       "      <td>Customised Plan</td>\n",
       "      <td>ASIA</td>\n",
       "    </tr>\n",
       "    <tr>\n",
       "      <th>1</th>\n",
       "      <td>36</td>\n",
       "      <td>EPX</td>\n",
       "      <td>Travel Agency</td>\n",
       "      <td>0</td>\n",
       "      <td>0.00</td>\n",
       "      <td>Online</td>\n",
       "      <td>34</td>\n",
       "      <td>20.00</td>\n",
       "      <td>Customised Plan</td>\n",
       "      <td>ASIA</td>\n",
       "    </tr>\n",
       "    <tr>\n",
       "      <th>2</th>\n",
       "      <td>39</td>\n",
       "      <td>CWT</td>\n",
       "      <td>Travel Agency</td>\n",
       "      <td>0</td>\n",
       "      <td>5.94</td>\n",
       "      <td>Online</td>\n",
       "      <td>3</td>\n",
       "      <td>9.90</td>\n",
       "      <td>Customised Plan</td>\n",
       "      <td>Americas</td>\n",
       "    </tr>\n",
       "    <tr>\n",
       "      <th>3</th>\n",
       "      <td>36</td>\n",
       "      <td>EPX</td>\n",
       "      <td>Travel Agency</td>\n",
       "      <td>0</td>\n",
       "      <td>0.00</td>\n",
       "      <td>Online</td>\n",
       "      <td>4</td>\n",
       "      <td>26.00</td>\n",
       "      <td>Cancellation Plan</td>\n",
       "      <td>ASIA</td>\n",
       "    </tr>\n",
       "    <tr>\n",
       "      <th>4</th>\n",
       "      <td>33</td>\n",
       "      <td>JZI</td>\n",
       "      <td>Airlines</td>\n",
       "      <td>0</td>\n",
       "      <td>6.30</td>\n",
       "      <td>Online</td>\n",
       "      <td>53</td>\n",
       "      <td>18.00</td>\n",
       "      <td>Bronze Plan</td>\n",
       "      <td>ASIA</td>\n",
       "    </tr>\n",
       "  </tbody>\n",
       "</table>\n",
       "</div>"
      ],
      "text/plain": [
       "   Age Agency_Code           Type  Claimed  Commision Channel  Duration  \\\n",
       "0   48         C2B       Airlines        0       0.70  Online         7   \n",
       "1   36         EPX  Travel Agency        0       0.00  Online        34   \n",
       "2   39         CWT  Travel Agency        0       5.94  Online         3   \n",
       "3   36         EPX  Travel Agency        0       0.00  Online         4   \n",
       "4   33         JZI       Airlines        0       6.30  Online        53   \n",
       "\n",
       "   Sales       Product Name Destination  \n",
       "0   2.51    Customised Plan        ASIA  \n",
       "1  20.00    Customised Plan        ASIA  \n",
       "2   9.90    Customised Plan    Americas  \n",
       "3  26.00  Cancellation Plan        ASIA  \n",
       "4  18.00        Bronze Plan        ASIA  "
      ]
     },
     "execution_count": 1120,
     "metadata": {},
     "output_type": "execute_result"
    }
   ],
   "source": [
    "mapper = {'No': 0 , 'Yes': 1}\n",
    "df['Claimed'] = df['Claimed'].map(mapper)\n",
    "df.head()"
   ]
  },
  {
   "cell_type": "code",
   "execution_count": 1121,
   "metadata": {},
   "outputs": [
    {
     "data": {
      "text/plain": [
       "0    0.692\n",
       "1    0.308\n",
       "Name: Claimed, dtype: float64"
      ]
     },
     "execution_count": 1121,
     "metadata": {},
     "output_type": "execute_result"
    }
   ],
   "source": [
    "# Get the proportion in each class\n",
    "df['Claimed'].value_counts(normalize=True)"
   ]
  },
  {
   "cell_type": "markdown",
   "metadata": {},
   "source": [
    "It was identified that Target variable is not balanced data. As we can see that No Constitutes of 69% & Yes Constitutes of 30% of total Entries."
   ]
  },
  {
   "cell_type": "markdown",
   "metadata": {},
   "source": [
    "### Check for missing value in any column"
   ]
  },
  {
   "cell_type": "code",
   "execution_count": 1122,
   "metadata": {},
   "outputs": [
    {
     "data": {
      "text/plain": [
       "Age             0\n",
       "Agency_Code     0\n",
       "Type            0\n",
       "Claimed         0\n",
       "Commision       0\n",
       "Channel         0\n",
       "Duration        0\n",
       "Sales           0\n",
       "Product Name    0\n",
       "Destination     0\n",
       "dtype: int64"
      ]
     },
     "execution_count": 1122,
     "metadata": {},
     "output_type": "execute_result"
    }
   ],
   "source": [
    "df.isnull().sum()"
   ]
  },
  {
   "cell_type": "markdown",
   "metadata": {},
   "source": [
    "There are no missing values in the dataset and we can go ahead with building the model."
   ]
  },
  {
   "cell_type": "code",
   "execution_count": 1123,
   "metadata": {},
   "outputs": [
    {
     "data": {
      "text/html": [
       "<div>\n",
       "<style scoped>\n",
       "    .dataframe tbody tr th:only-of-type {\n",
       "        vertical-align: middle;\n",
       "    }\n",
       "\n",
       "    .dataframe tbody tr th {\n",
       "        vertical-align: top;\n",
       "    }\n",
       "\n",
       "    .dataframe thead th {\n",
       "        text-align: right;\n",
       "    }\n",
       "</style>\n",
       "<table border=\"1\" class=\"dataframe\">\n",
       "  <thead>\n",
       "    <tr style=\"text-align: right;\">\n",
       "      <th></th>\n",
       "      <th>Missing Values</th>\n",
       "      <th>Percentage</th>\n",
       "    </tr>\n",
       "  </thead>\n",
       "  <tbody>\n",
       "  </tbody>\n",
       "</table>\n",
       "</div>"
      ],
      "text/plain": [
       "Empty DataFrame\n",
       "Columns: [Missing Values, Percentage]\n",
       "Index: []"
      ]
     },
     "execution_count": 1123,
     "metadata": {},
     "output_type": "execute_result"
    }
   ],
   "source": [
    "# Getting the number of missing values in each column\n",
    "num_missing = df.isna().sum()\n",
    "# Excluding columns that contains 0 missing values\n",
    "num_missing = num_missing[num_missing > 0]\n",
    "# Getting the percentages of missing values\n",
    "percent_missing = num_missing * 100 / df.shape[0]\n",
    "# Concatenating the number and perecentage of missing values \n",
    "# into one dataframe and sorting it\n",
    "pd.concat([num_missing, percent_missing], axis=1, \n",
    "          keys=['Missing Values', 'Percentage']).\\\n",
    "          sort_values(by=\"Missing Values\", ascending=False)"
   ]
  },
  {
   "cell_type": "markdown",
   "metadata": {},
   "source": [
    "Basis above plot it clear that there are many outliers in the variables."
   ]
  },
  {
   "cell_type": "code",
   "execution_count": 1137,
   "metadata": {},
   "outputs": [
    {
     "name": "stderr",
     "output_type": "stream",
     "text": [
      "C:\\Users\\niranja.dhavan\\Anaconda3\\lib\\site-packages\\pandas\\plotting\\_matplotlib\\tools.py:298: MatplotlibDeprecationWarning: \n",
      "The rowNum attribute was deprecated in Matplotlib 3.2 and will be removed two minor releases later. Use ax.get_subplotspec().rowspan.start instead.\n",
      "  layout[ax.rowNum, ax.colNum] = ax.get_visible()\n",
      "C:\\Users\\niranja.dhavan\\Anaconda3\\lib\\site-packages\\pandas\\plotting\\_matplotlib\\tools.py:298: MatplotlibDeprecationWarning: \n",
      "The colNum attribute was deprecated in Matplotlib 3.2 and will be removed two minor releases later. Use ax.get_subplotspec().colspan.start instead.\n",
      "  layout[ax.rowNum, ax.colNum] = ax.get_visible()\n",
      "C:\\Users\\niranja.dhavan\\Anaconda3\\lib\\site-packages\\pandas\\plotting\\_matplotlib\\tools.py:304: MatplotlibDeprecationWarning: \n",
      "The rowNum attribute was deprecated in Matplotlib 3.2 and will be removed two minor releases later. Use ax.get_subplotspec().rowspan.start instead.\n",
      "  if not layout[ax.rowNum + 1, ax.colNum]:\n",
      "C:\\Users\\niranja.dhavan\\Anaconda3\\lib\\site-packages\\pandas\\plotting\\_matplotlib\\tools.py:304: MatplotlibDeprecationWarning: \n",
      "The colNum attribute was deprecated in Matplotlib 3.2 and will be removed two minor releases later. Use ax.get_subplotspec().colspan.start instead.\n",
      "  if not layout[ax.rowNum + 1, ax.colNum]:\n"
     ]
    },
    {
     "data": {
      "text/plain": [
       "array([[<matplotlib.axes._subplots.AxesSubplot object at 0x000001A94237AD88>,\n",
       "        <matplotlib.axes._subplots.AxesSubplot object at 0x000001A9425D64C8>],\n",
       "       [<matplotlib.axes._subplots.AxesSubplot object at 0x000001A9425FC9C8>,\n",
       "        <matplotlib.axes._subplots.AxesSubplot object at 0x000001A942851F88>],\n",
       "       [<matplotlib.axes._subplots.AxesSubplot object at 0x000001A94288C6C8>,\n",
       "        <matplotlib.axes._subplots.AxesSubplot object at 0x000001A9428C3D08>]],\n",
       "      dtype=object)"
      ]
     },
     "execution_count": 1137,
     "metadata": {},
     "output_type": "execute_result"
    },
    {
     "data": {
      "image/png": "[encoded data removed]",
      "text/plain": [
       "<Figure size 1440x1008 with 6 Axes>"
      ]
     },
     "metadata": {
      "needs_background": "light"
     },
     "output_type": "display_data"
    }
   ],
   "source": [
    "rcParams['figure.figsize']=20,14\n",
    "\n",
    "df.hist()"
   ]
  },
  {
   "cell_type": "code",
   "execution_count": 1141,
   "metadata": {},
   "outputs": [
    {
     "data": {
      "image/png": "[encoded data removed]",
      "text/plain": [
       "<Figure size 1080x864 with 4 Axes>"
      ]
     },
     "metadata": {
      "needs_background": "light"
     },
     "output_type": "display_data"
    }
   ],
   "source": [
    "fig , axes = plt.subplots(nrows=2,ncols=2, figsize=(15,12))\n",
    "sns.boxplot(df['Age'],ax=axes[0,0],color='sandybrown')\n",
    "sns.boxplot(df['Commision'],ax=axes[0,1],color='seagreen')\n",
    "sns.boxplot(df['Duration'],ax=axes[1,0],color='steelblue')\n",
    "sns.boxplot(df['Sales'],ax=axes[1,1],color='tomato')\n",
    "plt.show()"
   ]
  },
  {
   "cell_type": "code",
   "execution_count": 1142,
   "metadata": {},
   "outputs": [
    {
     "data": {
      "image/png": "[encoded data removed]",
      "text/plain": [
       "<Figure size 1080x864 with 4 Axes>"
      ]
     },
     "metadata": {
      "needs_background": "light"
     },
     "output_type": "display_data"
    }
   ],
   "source": [
    "ig , axes = plt.subplots(nrows=2,ncols=2, figsize=(15,12))\n",
    "sns.histplot(df['Age'],ax=axes[0,0],color='sandybrown')\n",
    "sns.histplot(df['Commision'],ax=axes[0,1],color='seagreen')\n",
    "sns.histplot(df['Duration'],ax=axes[1,0],color='steelblue')\n",
    "sns.distplot(df['Sales'],ax=axes[1,1],color='tomato')\n",
    "plt.show()\n"
   ]
  },
  {
   "cell_type": "code",
   "execution_count": 1136,
   "metadata": {},
   "outputs": [
    {
     "data": {
      "text/plain": [
       "<seaborn.axisgrid.PairGrid at 0x1a935485e48>"
      ]
     },
     "execution_count": 1136,
     "metadata": {},
     "output_type": "execute_result"
    },
    {
     "data": {
      "image/png": "[encoded data removed]",
      "text/plain": [
       "<Figure size 720x720 with 20 Axes>"
      ]
     },
     "metadata": {
      "needs_background": "light"
     },
     "output_type": "display_data"
    }
   ],
   "source": [
    "sns.pairplot(df[['Age', 'Commision', 'Duration', 'Sales']])"
   ]
  },
  {
   "cell_type": "markdown",
   "metadata": {},
   "source": [
    "## sklearn in Python does not take the input of object data types when building Classification Trees. So, we need to convert these variables into some numerical form.We shall perform onehot encoding for them all"
   ]
  },
  {
   "cell_type": "code",
   "execution_count": 958,
   "metadata": {},
   "outputs": [],
   "source": [
    "# Let us define the X(All independent variables) and Y(Dependent ~ \"Claimed\") variables\n",
    "\n",
    "X = df.drop(\"Claimed\" , axis=1)\n",
    "\n",
    "Y = df.pop(\"Claimed\")\n",
    "#we have made a copy of the data frame as the 'pop' function removes that particular variable from the data frame and stores \n",
    "# in another variable"
   ]
  },
  {
   "cell_type": "code",
   "execution_count": 959,
   "metadata": {},
   "outputs": [],
   "source": [
    "# Encoding Categorical Features\n",
    "X = pd.get_dummies( X, drop_first = False )"
   ]
  },
  {
   "cell_type": "code",
   "execution_count": 960,
   "metadata": {},
   "outputs": [
    {
     "data": {
      "text/plain": [
       "['Age',\n",
       " 'Commision',\n",
       " 'Duration',\n",
       " 'Sales',\n",
       " 'Agency_Code_C2B',\n",
       " 'Agency_Code_CWT',\n",
       " 'Agency_Code_EPX',\n",
       " 'Agency_Code_JZI',\n",
       " 'Type_Airlines',\n",
       " 'Type_Travel Agency',\n",
       " 'Channel_Offline',\n",
       " 'Channel_Online',\n",
       " 'Product Name_Bronze Plan',\n",
       " 'Product Name_Cancellation Plan',\n",
       " 'Product Name_Customised Plan',\n",
       " 'Product Name_Gold Plan',\n",
       " 'Product Name_Silver Plan',\n",
       " 'Destination_ASIA',\n",
       " 'Destination_Americas',\n",
       " 'Destination_EUROPE']"
      ]
     },
     "execution_count": 960,
     "metadata": {},
     "output_type": "execute_result"
    }
   ],
   "source": [
    "list(X.columns)"
   ]
  },
  {
   "cell_type": "code",
   "execution_count": 961,
   "metadata": {},
   "outputs": [
    {
     "data": {
      "text/plain": [
       "Age                                 int64\n",
       "Commision                         float64\n",
       "Duration                            int64\n",
       "Sales                             float64\n",
       "Agency_Code_C2B                     uint8\n",
       "Agency_Code_CWT                     uint8\n",
       "Agency_Code_EPX                     uint8\n",
       "Agency_Code_JZI                     uint8\n",
       "Type_Airlines                       uint8\n",
       "Type_Travel Agency                  uint8\n",
       "Channel_Offline                     uint8\n",
       "Channel_Online                      uint8\n",
       "Product Name_Bronze Plan            uint8\n",
       "Product Name_Cancellation Plan      uint8\n",
       "Product Name_Customised Plan        uint8\n",
       "Product Name_Gold Plan              uint8\n",
       "Product Name_Silver Plan            uint8\n",
       "Destination_ASIA                    uint8\n",
       "Destination_Americas                uint8\n",
       "Destination_EUROPE                  uint8\n",
       "dtype: object"
      ]
     },
     "execution_count": 961,
     "metadata": {},
     "output_type": "execute_result"
    }
   ],
   "source": [
    "X.dtypes"
   ]
  },
  {
   "cell_type": "markdown",
   "metadata": {},
   "source": [
    "We Can see that all Object data types are coverted into Into Numerical form (i.e. uint8)"
   ]
  },
  {
   "cell_type": "code",
   "execution_count": 962,
   "metadata": {},
   "outputs": [
    {
     "data": {
      "text/html": [
       "<div>\n",
       "<style scoped>\n",
       "    .dataframe tbody tr th:only-of-type {\n",
       "        vertical-align: middle;\n",
       "    }\n",
       "\n",
       "    .dataframe tbody tr th {\n",
       "        vertical-align: top;\n",
       "    }\n",
       "\n",
       "    .dataframe thead th {\n",
       "        text-align: right;\n",
       "    }\n",
       "</style>\n",
       "<table border=\"1\" class=\"dataframe\">\n",
       "  <thead>\n",
       "    <tr style=\"text-align: right;\">\n",
       "      <th></th>\n",
       "      <th>Age</th>\n",
       "      <th>Commision</th>\n",
       "      <th>Duration</th>\n",
       "      <th>Sales</th>\n",
       "      <th>Agency_Code_C2B</th>\n",
       "      <th>Agency_Code_CWT</th>\n",
       "      <th>Agency_Code_EPX</th>\n",
       "      <th>Agency_Code_JZI</th>\n",
       "      <th>Type_Airlines</th>\n",
       "      <th>Type_Travel Agency</th>\n",
       "      <th>Channel_Offline</th>\n",
       "      <th>Channel_Online</th>\n",
       "      <th>Product Name_Bronze Plan</th>\n",
       "      <th>Product Name_Cancellation Plan</th>\n",
       "      <th>Product Name_Customised Plan</th>\n",
       "      <th>Product Name_Gold Plan</th>\n",
       "      <th>Product Name_Silver Plan</th>\n",
       "      <th>Destination_ASIA</th>\n",
       "      <th>Destination_Americas</th>\n",
       "      <th>Destination_EUROPE</th>\n",
       "    </tr>\n",
       "  </thead>\n",
       "  <tbody>\n",
       "    <tr>\n",
       "      <th>0</th>\n",
       "      <td>48</td>\n",
       "      <td>0.70</td>\n",
       "      <td>7</td>\n",
       "      <td>2.51</td>\n",
       "      <td>1</td>\n",
       "      <td>0</td>\n",
       "      <td>0</td>\n",
       "      <td>0</td>\n",
       "      <td>1</td>\n",
       "      <td>0</td>\n",
       "      <td>0</td>\n",
       "      <td>1</td>\n",
       "      <td>0</td>\n",
       "      <td>0</td>\n",
       "      <td>1</td>\n",
       "      <td>0</td>\n",
       "      <td>0</td>\n",
       "      <td>1</td>\n",
       "      <td>0</td>\n",
       "      <td>0</td>\n",
       "    </tr>\n",
       "    <tr>\n",
       "      <th>1</th>\n",
       "      <td>36</td>\n",
       "      <td>0.00</td>\n",
       "      <td>34</td>\n",
       "      <td>20.00</td>\n",
       "      <td>0</td>\n",
       "      <td>0</td>\n",
       "      <td>1</td>\n",
       "      <td>0</td>\n",
       "      <td>0</td>\n",
       "      <td>1</td>\n",
       "      <td>0</td>\n",
       "      <td>1</td>\n",
       "      <td>0</td>\n",
       "      <td>0</td>\n",
       "      <td>1</td>\n",
       "      <td>0</td>\n",
       "      <td>0</td>\n",
       "      <td>1</td>\n",
       "      <td>0</td>\n",
       "      <td>0</td>\n",
       "    </tr>\n",
       "    <tr>\n",
       "      <th>2</th>\n",
       "      <td>39</td>\n",
       "      <td>5.94</td>\n",
       "      <td>3</td>\n",
       "      <td>9.90</td>\n",
       "      <td>0</td>\n",
       "      <td>1</td>\n",
       "      <td>0</td>\n",
       "      <td>0</td>\n",
       "      <td>0</td>\n",
       "      <td>1</td>\n",
       "      <td>0</td>\n",
       "      <td>1</td>\n",
       "      <td>0</td>\n",
       "      <td>0</td>\n",
       "      <td>1</td>\n",
       "      <td>0</td>\n",
       "      <td>0</td>\n",
       "      <td>0</td>\n",
       "      <td>1</td>\n",
       "      <td>0</td>\n",
       "    </tr>\n",
       "    <tr>\n",
       "      <th>3</th>\n",
       "      <td>36</td>\n",
       "      <td>0.00</td>\n",
       "      <td>4</td>\n",
       "      <td>26.00</td>\n",
       "      <td>0</td>\n",
       "      <td>0</td>\n",
       "      <td>1</td>\n",
       "      <td>0</td>\n",
       "      <td>0</td>\n",
       "      <td>1</td>\n",
       "      <td>0</td>\n",
       "      <td>1</td>\n",
       "      <td>0</td>\n",
       "      <td>1</td>\n",
       "      <td>0</td>\n",
       "      <td>0</td>\n",
       "      <td>0</td>\n",
       "      <td>1</td>\n",
       "      <td>0</td>\n",
       "      <td>0</td>\n",
       "    </tr>\n",
       "    <tr>\n",
       "      <th>4</th>\n",
       "      <td>33</td>\n",
       "      <td>6.30</td>\n",
       "      <td>53</td>\n",
       "      <td>18.00</td>\n",
       "      <td>0</td>\n",
       "      <td>0</td>\n",
       "      <td>0</td>\n",
       "      <td>1</td>\n",
       "      <td>1</td>\n",
       "      <td>0</td>\n",
       "      <td>0</td>\n",
       "      <td>1</td>\n",
       "      <td>1</td>\n",
       "      <td>0</td>\n",
       "      <td>0</td>\n",
       "      <td>0</td>\n",
       "      <td>0</td>\n",
       "      <td>1</td>\n",
       "      <td>0</td>\n",
       "      <td>0</td>\n",
       "    </tr>\n",
       "  </tbody>\n",
       "</table>\n",
       "</div>"
      ],
      "text/plain": [
       "   Age  Commision  Duration  Sales  Agency_Code_C2B  Agency_Code_CWT  \\\n",
       "0   48       0.70         7   2.51                1                0   \n",
       "1   36       0.00        34  20.00                0                0   \n",
       "2   39       5.94         3   9.90                0                1   \n",
       "3   36       0.00         4  26.00                0                0   \n",
       "4   33       6.30        53  18.00                0                0   \n",
       "\n",
       "   Agency_Code_EPX  Agency_Code_JZI  Type_Airlines  Type_Travel Agency  \\\n",
       "0                0                0              1                   0   \n",
       "1                1                0              0                   1   \n",
       "2                0                0              0                   1   \n",
       "3                1                0              0                   1   \n",
       "4                0                1              1                   0   \n",
       "\n",
       "   Channel_Offline  Channel_Online  Product Name_Bronze Plan  \\\n",
       "0                0               1                         0   \n",
       "1                0               1                         0   \n",
       "2                0               1                         0   \n",
       "3                0               1                         0   \n",
       "4                0               1                         1   \n",
       "\n",
       "   Product Name_Cancellation Plan  Product Name_Customised Plan  \\\n",
       "0                               0                             1   \n",
       "1                               0                             1   \n",
       "2                               0                             1   \n",
       "3                               1                             0   \n",
       "4                               0                             0   \n",
       "\n",
       "   Product Name_Gold Plan  Product Name_Silver Plan  Destination_ASIA  \\\n",
       "0                       0                         0                 1   \n",
       "1                       0                         0                 1   \n",
       "2                       0                         0                 0   \n",
       "3                       0                         0                 1   \n",
       "4                       0                         0                 1   \n",
       "\n",
       "   Destination_Americas  Destination_EUROPE  \n",
       "0                     0                   0  \n",
       "1                     0                   0  \n",
       "2                     1                   0  \n",
       "3                     0                   0  \n",
       "4                     0                   0  "
      ]
     },
     "execution_count": 962,
     "metadata": {},
     "output_type": "execute_result"
    }
   ],
   "source": [
    "X.head()"
   ]
  },
  {
   "cell_type": "markdown",
   "metadata": {},
   "source": [
    "We see that the data types of all the variables have been changed to either of  𝑖𝑛𝑡64 or 𝑢𝑖𝑛𝑡8 or 𝑓𝑙𝑜𝑎𝑡64."
   ]
  },
  {
   "cell_type": "markdown",
   "metadata": {},
   "source": [
    "### Split the data into Train and Test."
   ]
  },
  {
   "cell_type": "markdown",
   "metadata": {},
   "source": [
    "Before building the model we should split the data into Train and Test. We will thus build a model on the training data and use this model to predict on the test data."
   ]
  },
  {
   "cell_type": "markdown",
   "metadata": {},
   "source": [
    "We will be doing a 70:30 split. 70% of the whole data will be used to train the data and then 30% of the data will be used for testing the model thus built."
   ]
  },
  {
   "cell_type": "code",
   "execution_count": 963,
   "metadata": {},
   "outputs": [],
   "source": [
    "# splitting data into training and test set for independent attributes\n",
    "from sklearn.model_selection import train_test_split\n",
    "\n",
    "X_train, X_test, train_labels, test_labels = train_test_split(X, Y, test_size=.30, random_state=1)"
   ]
  },
  {
   "cell_type": "markdown",
   "metadata": {},
   "source": [
    "## Decision Tree Classifier"
   ]
  },
  {
   "cell_type": "code",
   "execution_count": 964,
   "metadata": {},
   "outputs": [],
   "source": [
    "from sklearn import tree"
   ]
  },
  {
   "cell_type": "code",
   "execution_count": 965,
   "metadata": {},
   "outputs": [],
   "source": [
    "dt_model = DecisionTreeClassifier(criterion = 'gini',random_state=1)"
   ]
  },
  {
   "cell_type": "markdown",
   "metadata": {},
   "source": [
    "In the above code snippet we have defined a Decision Tree (which is to be used for classification problems) with the splitting criteria for each node as 'gini'."
   ]
  },
  {
   "cell_type": "markdown",
   "metadata": {},
   "source": [
    "Now, that we have defined a Decision Tree, let us go ahead and build the model on the training data."
   ]
  },
  {
   "cell_type": "code",
   "execution_count": 966,
   "metadata": {
    "scrolled": true
   },
   "outputs": [
    {
     "data": {
      "text/plain": [
       "DecisionTreeClassifier(ccp_alpha=0.0, class_weight=None, criterion='gini',\n",
       "                       max_depth=None, max_features=None, max_leaf_nodes=None,\n",
       "                       min_impurity_decrease=0.0, min_impurity_split=None,\n",
       "                       min_samples_leaf=1, min_samples_split=2,\n",
       "                       min_weight_fraction_leaf=0.0, presort='deprecated',\n",
       "                       random_state=1, splitter='best')"
      ]
     },
     "execution_count": 966,
     "metadata": {},
     "output_type": "execute_result"
    }
   ],
   "source": [
    "dt_model.fit(X_train, train_labels)"
   ]
  },
  {
   "cell_type": "markdown",
   "metadata": {},
   "source": [
    "Let us check importance of the variables in the Classification Tree. The importance of a feature or variable is computed as the (normalized) total reduction of the gini criterion brought by that feature. It is also known as the Gini importance."
   ]
  },
  {
   "cell_type": "code",
   "execution_count": 967,
   "metadata": {},
   "outputs": [
    {
     "data": {
      "text/plain": [
       "Duration                          0.254863\n",
       "Sales                             0.194513\n",
       "Agency_Code_C2B                   0.188265\n",
       "Age                               0.170710\n",
       "Commision                         0.096285\n",
       "Product Name_Cancellation Plan    0.015495\n",
       "Product Name_Customised Plan      0.012677\n",
       "Product Name_Silver Plan          0.011399\n",
       "Product Name_Bronze Plan          0.010276\n",
       "Product Name_Gold Plan            0.009926\n",
       "Destination_Americas              0.007818\n",
       "Channel_Offline                   0.007465\n",
       "Destination_EUROPE                0.006234\n",
       "Destination_ASIA                  0.004914\n",
       "Agency_Code_CWT                   0.003748\n",
       "Type_Travel Agency                0.002088\n",
       "Type_Airlines                     0.001915\n",
       "Agency_Code_EPX                   0.001408\n",
       "Agency_Code_JZI                   0.000000\n",
       "Channel_Online                    0.000000\n",
       "dtype: float64"
      ]
     },
     "execution_count": 967,
     "metadata": {},
     "output_type": "execute_result"
    }
   ],
   "source": [
    "pd.Series(dt_model.feature_importances_,index=X_train.columns).sort_values(ascending=False)"
   ]
  },
  {
   "cell_type": "markdown",
   "metadata": {},
   "source": [
    "From the above output, we can see that 'Duration' is the most important variable followed by 'Sales' and so on."
   ]
  },
  {
   "cell_type": "markdown",
   "metadata": {},
   "source": [
    "Let us take a look at the overall accuracy of the train and test data using the model that we just built."
   ]
  },
  {
   "cell_type": "code",
   "execution_count": 968,
   "metadata": {},
   "outputs": [
    {
     "data": {
      "text/plain": [
       "0.9947619047619047"
      ]
     },
     "execution_count": 968,
     "metadata": {},
     "output_type": "execute_result"
    }
   ],
   "source": [
    "#Train Data\n",
    "dt_model.score(X_train,train_labels)"
   ]
  },
  {
   "cell_type": "code",
   "execution_count": 969,
   "metadata": {},
   "outputs": [
    {
     "data": {
      "text/plain": [
       "0.7022222222222222"
      ]
     },
     "execution_count": 969,
     "metadata": {},
     "output_type": "execute_result"
    }
   ],
   "source": [
    "#Test Data\n",
    "dt_model.score(X_test,test_labels)"
   ]
  },
  {
   "cell_type": "markdown",
   "metadata": {},
   "source": [
    "The accuracy on the Training Data is 99% and the accuracy on the Test Data is 70% which is lesser substantially. The model has surely been overfitted. \n",
    "Thus, we need to prune or regularize the tree."
   ]
  },
  {
   "cell_type": "markdown",
   "metadata": {},
   "source": [
    "### Pruning/Regularizing the Tree"
   ]
  },
  {
   "cell_type": "markdown",
   "metadata": {},
   "source": [
    "## Using Grid Search CV"
   ]
  },
  {
   "cell_type": "markdown",
   "metadata": {},
   "source": [
    "GridSearchCV is a library function that is a member of sklearn's model_selection package. It helps to loop through predefined hyperparameters and fit your estimator (model) on your training set. So, in the end, you can select the best parameters from the listed hyperparameters"
   ]
  },
  {
   "cell_type": "markdown",
   "metadata": {},
   "source": [
    "What the command GridSearchCV does is build multiple model based on a range of parameters specified by us. Then it ultimately returns best parameters on the basis of which we can go ahead and build our model. Let us now see how to define the range of parameters for the GridSearchCV function."
   ]
  },
  {
   "cell_type": "code",
   "execution_count": 970,
   "metadata": {},
   "outputs": [],
   "source": [
    "from sklearn.model_selection import GridSearchCV\n",
    "\n",
    "param_grid = {\n",
    "    'criterion':['entropy','gini'],\n",
    "    'max_depth': [5, 6, 7, 8, 9, 10],\n",
    "    'min_samples_leaf': [25, 40, 41, 42, 43, 44],\n",
    "    'min_samples_split': [150, 175, 200, 210, 220, 230, 240, 250, 260, 270]\n",
    "}\n",
    "\n",
    "grid_search = GridSearchCV(estimator = dt_model, param_grid = param_grid, cv = 3)"
   ]
  },
  {
   "cell_type": "markdown",
   "metadata": {},
   "source": [
    "Now that we have defined a dictionary in Python with all these parameters, it is time to use these parameters to build the model and check for the best set of parameters. The above dictionary makes sure that all the different combinations of values are used to build Best CART models.\n"
   ]
  },
  {
   "cell_type": "code",
   "execution_count": 971,
   "metadata": {},
   "outputs": [
    {
     "data": {
      "text/plain": [
       "GridSearchCV(cv=3, error_score=nan,\n",
       "             estimator=DecisionTreeClassifier(ccp_alpha=0.0, class_weight=None,\n",
       "                                              criterion='gini', max_depth=None,\n",
       "                                              max_features=None,\n",
       "                                              max_leaf_nodes=None,\n",
       "                                              min_impurity_decrease=0.0,\n",
       "                                              min_impurity_split=None,\n",
       "                                              min_samples_leaf=1,\n",
       "                                              min_samples_split=2,\n",
       "                                              min_weight_fraction_leaf=0.0,\n",
       "                                              presort='deprecated',\n",
       "                                              random_state=1, splitter='best'),\n",
       "             iid='deprecated', n_jobs=None,\n",
       "             param_grid={'criterion': ['entropy', 'gini'],\n",
       "                         'max_depth': [5, 6, 7, 8, 9, 10],\n",
       "                         'min_samples_leaf': [25, 40, 41, 42, 43, 44],\n",
       "                         'min_samples_split': [150, 175, 200, 210, 220, 230,\n",
       "                                               240, 250, 260, 270]},\n",
       "             pre_dispatch='2*n_jobs', refit=True, return_train_score=False,\n",
       "             scoring=None, verbose=0)"
      ]
     },
     "execution_count": 971,
     "metadata": {},
     "output_type": "execute_result"
    }
   ],
   "source": [
    "grid_search.fit(X_train, train_labels)"
   ]
  },
  {
   "cell_type": "code",
   "execution_count": 972,
   "metadata": {},
   "outputs": [
    {
     "data": {
      "text/plain": [
       "{'criterion': 'gini',\n",
       " 'max_depth': 5,\n",
       " 'min_samples_leaf': 25,\n",
       " 'min_samples_split': 150}"
      ]
     },
     "execution_count": 972,
     "metadata": {},
     "output_type": "execute_result"
    }
   ],
   "source": [
    "grid_search.best_params_"
   ]
  },
  {
   "cell_type": "markdown",
   "metadata": {},
   "source": [
    "Now we need to get the best model which uses these particular parameters."
   ]
  },
  {
   "cell_type": "code",
   "execution_count": 973,
   "metadata": {},
   "outputs": [],
   "source": [
    "best_grid = grid_search.best_estimator_"
   ]
  },
  {
   "cell_type": "markdown",
   "metadata": {},
   "source": [
    "Now that we have the best model, let us go ahead and use this model to predict on the Training Data as well as on the Test Data."
   ]
  },
  {
   "cell_type": "code",
   "execution_count": 974,
   "metadata": {},
   "outputs": [],
   "source": [
    "dt_regmodel = DecisionTreeClassifier(criterion='gini',max_depth=5,min_samples_leaf=10,\n",
    "                                     min_samples_split=45,random_state=1)"
   ]
  },
  {
   "cell_type": "code",
   "execution_count": 975,
   "metadata": {},
   "outputs": [
    {
     "data": {
      "text/plain": [
       "DecisionTreeClassifier(ccp_alpha=0.0, class_weight=None, criterion='gini',\n",
       "                       max_depth=5, max_features=None, max_leaf_nodes=None,\n",
       "                       min_impurity_decrease=0.0, min_impurity_split=None,\n",
       "                       min_samples_leaf=10, min_samples_split=45,\n",
       "                       min_weight_fraction_leaf=0.0, presort='deprecated',\n",
       "                       random_state=1, splitter='best')"
      ]
     },
     "execution_count": 975,
     "metadata": {},
     "output_type": "execute_result"
    }
   ],
   "source": [
    "dt_regmodel.fit(X_train,train_labels)"
   ]
  },
  {
   "cell_type": "markdown",
   "metadata": {},
   "source": [
    "Let us now go ahead and print the classification report for the test data and compare between train and test."
   ]
  },
  {
   "cell_type": "code",
   "execution_count": 976,
   "metadata": {},
   "outputs": [],
   "source": [
    "ytrain_predict = best_grid.predict(X_train)\n",
    "ytest_predict = best_grid.predict(X_test)"
   ]
  },
  {
   "cell_type": "markdown",
   "metadata": {},
   "source": [
    "We can also go ahead and predict the probabilities as well. This is useful when we want to fix the value of the cut-off point ourselves to specify the classes. Python takes the default cut-off point as 0.5."
   ]
  },
  {
   "cell_type": "code",
   "execution_count": 977,
   "metadata": {},
   "outputs": [],
   "source": [
    "y_train_predict_prob = best_grid.predict_proba(X_train)\n",
    "y_test_predict_prob = best_grid.predict_proba(X_test)"
   ]
  },
  {
   "cell_type": "markdown",
   "metadata": {},
   "source": [
    "# Model Evaluation"
   ]
  },
  {
   "cell_type": "markdown",
   "metadata": {},
   "source": [
    "Let us first evaluate on the training data."
   ]
  },
  {
   "cell_type": "code",
   "execution_count": 978,
   "metadata": {},
   "outputs": [],
   "source": [
    "from sklearn.metrics import classification_report"
   ]
  },
  {
   "cell_type": "markdown",
   "metadata": {},
   "source": [
    "We will start by checking the confusion matrix and then the classification report as well."
   ]
  },
  {
   "cell_type": "markdown",
   "metadata": {},
   "source": [
    "### Train Accuracy"
   ]
  },
  {
   "cell_type": "code",
   "execution_count": 979,
   "metadata": {},
   "outputs": [
    {
     "data": {
      "text/plain": [
       "0.7995238095238095"
      ]
     },
     "execution_count": 979,
     "metadata": {},
     "output_type": "execute_result"
    }
   ],
   "source": [
    "cart_train_score = dt_regmodel.score(X_train,train_labels)\n",
    "cart_train_score"
   ]
  },
  {
   "cell_type": "markdown",
   "metadata": {},
   "source": [
    "### Confusion_matrix for train data"
   ]
  },
  {
   "cell_type": "code",
   "execution_count": 980,
   "metadata": {},
   "outputs": [],
   "source": [
    "from sklearn import metrics"
   ]
  },
  {
   "cell_type": "code",
   "execution_count": 981,
   "metadata": {},
   "outputs": [
    {
     "data": {
      "text/plain": [
       "array([[1311,  160],\n",
       "       [ 264,  365]], dtype=int64)"
      ]
     },
     "execution_count": 981,
     "metadata": {},
     "output_type": "execute_result"
    }
   ],
   "source": [
    "cart_conf_train = metrics.confusion_matrix(train_labels, ytrain_predict)\n",
    "cart_conf_train"
   ]
  },
  {
   "cell_type": "code",
   "execution_count": 982,
   "metadata": {},
   "outputs": [
    {
     "name": "stdout",
     "output_type": "stream",
     "text": [
      "True Negative: 1311 \n",
      "False Positives: 160 \n",
      "False Negatives: 264 \n",
      "True Positives: 365\n"
     ]
    },
    {
     "data": {
      "image/png": "[encoded data removed]",
      "text/plain": [
       "<Figure size 432x288 with 2 Axes>"
      ]
     },
     "metadata": {
      "needs_background": "light"
     },
     "output_type": "display_data"
    }
   ],
   "source": [
    "sns.heatmap(metrics.confusion_matrix(train_labels, ytrain_predict),annot=True,fmt='d',cmap='Greens')\n",
    "tn, fp, fn, tp = metrics.confusion_matrix(train_labels,ytrain_predict).ravel()\n",
    "print('True Negative:',tn,'\\n''False Positives:' ,fp,'\\n''False Negatives:', fn,'\\n''True Positives:', tp)\n",
    "plt.xlabel('Predicted Values')\n",
    "plt.ylabel('Actual values')\n",
    "plt.show()"
   ]
  },
  {
   "cell_type": "code",
   "execution_count": 983,
   "metadata": {},
   "outputs": [
    {
     "name": "stdout",
     "output_type": "stream",
     "text": [
      "              precision    recall  f1-score   support\n",
      "\n",
      "           0       0.83      0.89      0.86      1471\n",
      "           1       0.70      0.58      0.63       629\n",
      "\n",
      "    accuracy                           0.80      2100\n",
      "   macro avg       0.76      0.74      0.75      2100\n",
      "weighted avg       0.79      0.80      0.79      2100\n",
      "\n"
     ]
    }
   ],
   "source": [
    "print(classification_report(train_labels,ytrain_predict))"
   ]
  },
  {
   "cell_type": "markdown",
   "metadata": {},
   "source": [
    "We can see a 80% overall accuracy on the Training data."
   ]
  },
  {
   "cell_type": "markdown",
   "metadata": {},
   "source": [
    "Now, let us check the Area Under Curve of the Receiver Operator Characteristic Curve."
   ]
  },
  {
   "cell_type": "code",
   "execution_count": 984,
   "metadata": {},
   "outputs": [
    {
     "name": "stdout",
     "output_type": "stream",
     "text": [
      "AUC: 0.834\n"
     ]
    },
    {
     "data": {
      "image/png": "[encoded data removed]",
      "text/plain": [
       "<Figure size 432x288 with 1 Axes>"
      ]
     },
     "metadata": {
      "needs_background": "light"
     },
     "output_type": "display_data"
    }
   ],
   "source": [
    "# calculate AUC\n",
    "cart_train_auc = metrics.roc_auc_score(train_labels,y_train_predict_prob[:, 1])#keeping only the probabilities for the desired class outcome\n",
    "print('AUC: %.3f' % cart_train_auc)\n",
    "# # calculate roc curve\n",
    "# from sklearn.metrics import roc_curve\n",
    "cart_train_fpr, cart_train_tpr, cart_train_thresholds = metrics.roc_curve(train_labels,y_train_predict_prob[:, 1])#keeping only the probabilities for the desired \n",
    "#class outcome\n",
    "plt.plot([0, 1], [0, 1], linestyle='--')\n",
    "# plot the roc curve for the model\n",
    "plt.plot(cart_train_fpr, cart_train_tpr, marker='.')\n",
    "# show the plot\n",
    "plt.show()"
   ]
  },
  {
   "cell_type": "code",
   "execution_count": 985,
   "metadata": {},
   "outputs": [
    {
     "name": "stdout",
     "output_type": "stream",
     "text": [
      "cart_train_precision  0.7\n",
      "cart_train_recall  0.58\n",
      "cart_train_f1  0.63\n"
     ]
    }
   ],
   "source": [
    "cart_metrics=classification_report(train_labels,ytrain_predict,output_dict=True)\n",
    "df=pd.DataFrame(cart_metrics).transpose()\n",
    "cart_train_f1=round(df.loc[\"1\"][2],2)\n",
    "cart_train_recall=round(df.loc[\"1\"][1],2)\n",
    "cart_train_precision=round(df.loc[\"1\"][0],2)\n",
    "print ('cart_train_precision ',cart_train_precision)\n",
    "print ('cart_train_recall ',cart_train_recall)\n",
    "print ('cart_train_f1 ',cart_train_f1)"
   ]
  },
  {
   "cell_type": "markdown",
   "metadata": {},
   "source": [
    "### Test Accuracy"
   ]
  },
  {
   "cell_type": "code",
   "execution_count": 986,
   "metadata": {},
   "outputs": [
    {
     "data": {
      "text/plain": [
       "0.7755555555555556"
      ]
     },
     "execution_count": 986,
     "metadata": {},
     "output_type": "execute_result"
    }
   ],
   "source": [
    "cart_test_score = dt_regmodel.score(X_test,test_labels)\n",
    "cart_test_score"
   ]
  },
  {
   "cell_type": "markdown",
   "metadata": {},
   "source": [
    "###  Confusion_matrix for test data"
   ]
  },
  {
   "cell_type": "code",
   "execution_count": 987,
   "metadata": {},
   "outputs": [
    {
     "data": {
      "text/plain": [
       "array([[551,  54],\n",
       "       [158, 137]], dtype=int64)"
      ]
     },
     "execution_count": 987,
     "metadata": {},
     "output_type": "execute_result"
    }
   ],
   "source": [
    "cart_conf_test = metrics.confusion_matrix(test_labels, ytest_predict)\n",
    "cart_conf_test"
   ]
  },
  {
   "cell_type": "code",
   "execution_count": 1008,
   "metadata": {},
   "outputs": [
    {
     "name": "stdout",
     "output_type": "stream",
     "text": [
      "True Negative: 551 \n",
      "False Positives: 54 \n",
      "False Negatives: 158 \n",
      "True Positives: 137 \n",
      "\n"
     ]
    },
    {
     "data": {
      "image/png": "[encoded data removed]",
      "text/plain": [
       "<Figure size 432x288 with 2 Axes>"
      ]
     },
     "metadata": {
      "needs_background": "light"
     },
     "output_type": "display_data"
    }
   ],
   "source": [
    "tn, fp, fn, tp = metrics.confusion_matrix(test_labels,ytest_predict).ravel()\n",
    "print('True Negative:',tn,'\\n''False Positives:' ,fp,'\\n''False Negatives:', fn,'\\n''True Positives:', tp,'\\n')\n",
    "sns.heatmap(metrics.confusion_matrix(test_labels, ytest_predict),annot=True,fmt='d',cmap='Greens')\n",
    "plt.xlabel('Predicted Values')\n",
    "plt.ylabel('Actual values')\n",
    "plt.show()"
   ]
  },
  {
   "cell_type": "code",
   "execution_count": 1009,
   "metadata": {},
   "outputs": [
    {
     "name": "stdout",
     "output_type": "stream",
     "text": [
      "              precision    recall  f1-score   support\n",
      "\n",
      "           0       0.78      0.91      0.84       605\n",
      "           1       0.72      0.46      0.56       295\n",
      "\n",
      "    accuracy                           0.76       900\n",
      "   macro avg       0.75      0.69      0.70       900\n",
      "weighted avg       0.76      0.76      0.75       900\n",
      "\n"
     ]
    }
   ],
   "source": [
    "print(metrics.classification_report(test_labels,ytest_predict))"
   ]
  },
  {
   "cell_type": "markdown",
   "metadata": {},
   "source": [
    "We can see a 78% overall accuracy on the Training data."
   ]
  },
  {
   "cell_type": "code",
   "execution_count": 1010,
   "metadata": {},
   "outputs": [
    {
     "name": "stdout",
     "output_type": "stream",
     "text": [
      "AUC: 0.796\n"
     ]
    },
    {
     "data": {
      "image/png": "[encoded data removed]",
      "text/plain": [
       "<Figure size 432x288 with 1 Axes>"
      ]
     },
     "metadata": {
      "needs_background": "light"
     },
     "output_type": "display_data"
    }
   ],
   "source": [
    "# AUC and ROC for the training data\n",
    "\n",
    "\n",
    "# calculating on the basis of a person not defaulting\n",
    "# calculate AUC\n",
    "cart_test_auc = metrics.roc_auc_score(test_labels,y_test_predict_prob[:, 1])#keeping only the probabilities for the desired class outcome\n",
    "print('AUC: %.3f' % cart_test_auc)\n",
    "# # calculate roc curve\n",
    "# from sklearn.metrics import roc_curve\n",
    "cart_test_fpr, cart_test_tpr, cart_test_thresholds = metrics.roc_curve(test_labels,y_test_predict_prob[:, 1])#keeping only the probabilities for the desired \n",
    "#class outcome\n",
    "plt.plot([0, 1], [0, 1], linestyle='--')\n",
    "# plot the roc curve for the model\n",
    "plt.plot(cart_test_fpr, cart_test_tpr, marker='.')\n",
    "# show the plot\n",
    "plt.show()"
   ]
  },
  {
   "cell_type": "code",
   "execution_count": 990,
   "metadata": {},
   "outputs": [
    {
     "name": "stdout",
     "output_type": "stream",
     "text": [
      "cart_test_precision  0.72\n",
      "cart_test_recall  0.46\n",
      "cart_test_f1  0.56\n"
     ]
    }
   ],
   "source": [
    "cart_metrics=classification_report(test_labels, ytest_predict,output_dict=True)\n",
    "df=pd.DataFrame(cart_metrics).transpose()\n",
    "cart_test_precision=round(df.loc[\"1\"][0],2)\n",
    "cart_test_recall=round(df.loc[\"1\"][1],2)\n",
    "cart_test_f1=round(df.loc[\"1\"][2],2)\n",
    "print ('cart_test_precision ',cart_test_precision)\n",
    "print ('cart_test_recall ',cart_test_recall)\n",
    "print ('cart_test_f1 ',cart_test_f1)"
   ]
  },
  {
   "cell_type": "markdown",
   "metadata": {},
   "source": [
    "## Random Forest Classifier"
   ]
  },
  {
   "cell_type": "markdown",
   "metadata": {},
   "source": [
    "We will start by building a basic Random Forest Model and then we will go ahead and tune the various parameters of the Random Forest model."
   ]
  },
  {
   "cell_type": "code",
   "execution_count": 1037,
   "metadata": {},
   "outputs": [],
   "source": [
    "from sklearn.ensemble import RandomForestClassifier"
   ]
  },
  {
   "cell_type": "code",
   "execution_count": 1038,
   "metadata": {},
   "outputs": [],
   "source": [
    "rfcl = RandomForestClassifier(criterion='gini',\n",
    "                              random_state=1,\n",
    "                                  oob_score=True,\n",
    "                              max_features=4,\n",
    "                              n_estimators=501)"
   ]
  },
  {
   "cell_type": "markdown",
   "metadata": {},
   "source": [
    "* In the above code snippet we have defined a Random Forest (which is to be used for classification problems) with the splitting criteria for each node as 'gini'. The 'random_state' parameter ensures that each time we run the code snippet the values remains the same. \n",
    "\n",
    "* In the above code snippet default values of 'min_samples_split' and 'min_samples_leaf' is taken as 2 and 1 respectively.\n",
    "\n",
    "* We are enabling the Out of Bag score as well to get an idea about how well the model has been fitted. \n",
    "\n",
    "* For our basic model of Random Forest, we are only taking 4 features to be used to build each tree inside this Random Forest. \n",
    "\n",
    "* The number of Decision Trees to be built inside this Random Forest has been specified as 501 with the n_estimators parameter."
   ]
  },
  {
   "cell_type": "markdown",
   "metadata": {},
   "source": [
    "Now that we have defined a Random Forest model let us build the model on the training data."
   ]
  },
  {
   "cell_type": "code",
   "execution_count": 1039,
   "metadata": {},
   "outputs": [
    {
     "data": {
      "text/plain": [
       "RandomForestClassifier(bootstrap=True, ccp_alpha=0.0, class_weight=None,\n",
       "                       criterion='gini', max_depth=None, max_features=4,\n",
       "                       max_leaf_nodes=None, max_samples=None,\n",
       "                       min_impurity_decrease=0.0, min_impurity_split=None,\n",
       "                       min_samples_leaf=1, min_samples_split=2,\n",
       "                       min_weight_fraction_leaf=0.0, n_estimators=501,\n",
       "                       n_jobs=None, oob_score=True, random_state=1, verbose=0,\n",
       "                       warm_start=False)"
      ]
     },
     "execution_count": 1039,
     "metadata": {},
     "output_type": "execute_result"
    }
   ],
   "source": [
    "rfcl.fit(X_train,train_labels)"
   ]
  },
  {
   "cell_type": "markdown",
   "metadata": {},
   "source": [
    "Let us check the Out Of Bag score now."
   ]
  },
  {
   "cell_type": "code",
   "execution_count": 1040,
   "metadata": {},
   "outputs": [
    {
     "data": {
      "text/plain": [
       "0.7542857142857143"
      ]
     },
     "execution_count": 1040,
     "metadata": {},
     "output_type": "execute_result"
    }
   ],
   "source": [
    "(rfcl.oob_score_)"
   ]
  },
  {
   "cell_type": "markdown",
   "metadata": {},
   "source": [
    "Out Of Bag score is 0.75"
   ]
  },
  {
   "cell_type": "code",
   "execution_count": 1041,
   "metadata": {},
   "outputs": [
    {
     "data": {
      "text/plain": [
       "24.571428571428566"
      ]
     },
     "execution_count": 1041,
     "metadata": {},
     "output_type": "execute_result"
    }
   ],
   "source": [
    "(1 - rfcl.oob_score_)*100"
   ]
  },
  {
   "cell_type": "markdown",
   "metadata": {},
   "source": [
    "Out Of Bag error rate"
   ]
  },
  {
   "cell_type": "markdown",
   "metadata": {},
   "source": [
    "Let us now check the variable importances in this particular Random Forest model"
   ]
  },
  {
   "cell_type": "code",
   "execution_count": 1042,
   "metadata": {},
   "outputs": [
    {
     "data": {
      "text/plain": [
       "Duration                          0.258659\n",
       "Sales                             0.198731\n",
       "Age                               0.176357\n",
       "Commision                         0.125201\n",
       "Agency_Code_C2B                   0.064424\n",
       "Product Name_Silver Plan          0.033350\n",
       "Type_Travel Agency                0.019964\n",
       "Type_Airlines                     0.019250\n",
       "Product Name_Customised Plan      0.017554\n",
       "Agency_Code_EPX                   0.016821\n",
       "Product Name_Cancellation Plan    0.013786\n",
       "Agency_Code_JZI                   0.012966\n",
       "Destination_ASIA                  0.007147\n",
       "Product Name_Gold Plan            0.007092\n",
       "Destination_Americas              0.006944\n",
       "Product Name_Bronze Plan          0.006069\n",
       "Destination_EUROPE                0.005212\n",
       "Agency_Code_CWT                   0.004301\n",
       "Channel_Online                    0.003136\n",
       "Channel_Offline                   0.003034\n",
       "dtype: float64"
      ]
     },
     "execution_count": 1042,
     "metadata": {},
     "output_type": "execute_result"
    }
   ],
   "source": [
    "pd.Series(rfcl.feature_importances_,index=X_train.columns).sort_values(ascending=False)"
   ]
  },
  {
   "cell_type": "markdown",
   "metadata": {},
   "source": [
    "From the above output, we can see that 'Duration' is the most important variable followed by 'Sales' and so on."
   ]
  },
  {
   "cell_type": "markdown",
   "metadata": {},
   "source": [
    "Now that we have built a basic Random Forest model, let us use the same to predict in the in-sample (Training data) data and out-of-sample (Test data) data and check the accuracy."
   ]
  },
  {
   "cell_type": "code",
   "execution_count": 1043,
   "metadata": {},
   "outputs": [
    {
     "data": {
      "text/plain": [
       "0.9947619047619047"
      ]
     },
     "execution_count": 1043,
     "metadata": {},
     "output_type": "execute_result"
    }
   ],
   "source": [
    "rfcl.score(X_train,train_labels)"
   ]
  },
  {
   "cell_type": "code",
   "execution_count": 1044,
   "metadata": {},
   "outputs": [
    {
     "data": {
      "text/plain": [
       "0.7577777777777778"
      ]
     },
     "execution_count": 1044,
     "metadata": {},
     "output_type": "execute_result"
    }
   ],
   "source": [
    "rfcl.score(X_test,test_labels)"
   ]
  },
  {
   "cell_type": "markdown",
   "metadata": {},
   "source": [
    "We see that the accuracy on the Training data is almost 1 and the accuracy on the test data is lower and can do with a better model. This shows a case of slight overfitting. We have allowed the Decision Trees inside the Random Forest algorithm to grow to their fullest. There is scope to regularize this particular Random Forest model to achieve comparative accuracy on both the Training and Test data."
   ]
  },
  {
   "cell_type": "markdown",
   "metadata": {},
   "source": [
    "We will start by building a Random Forest Model and then we will go ahead and tune the various parameters of the Random Forest model."
   ]
  },
  {
   "cell_type": "code",
   "execution_count": 1046,
   "metadata": {},
   "outputs": [],
   "source": [
    "from sklearn.model_selection import GridSearchCV\n",
    "\n",
    "param_grid = {\n",
    "    'max_depth': [5,7,8,9,10],\n",
    "    'max_features': [5,6,9,10],\n",
    "    'n_estimators': [301, 201,351,401,451,551]\n",
    "}\n",
    "\n",
    "rfcl = RandomForestClassifier(random_state=1)\n",
    "\n",
    "grid_search = GridSearchCV(estimator = rfcl, param_grid = param_grid, cv = 3,n_jobs=-1)\n",
    "#n_jobs=-1 allows paralle processing instead of serial processing\n",
    "\n",
    "    "
   ]
  },
  {
   "cell_type": "markdown",
   "metadata": {},
   "source": [
    "* In the above code snippet we have defined a Random Forest (which is to be used for classification problems) with the splitting criteria for each node as 'gini' & Entropy. The 'random_state' parameter ensures that each time we run the code snippet the values remains the same. \n",
    "\n",
    "* In the above code snippet default values of 'min_samples_split' and 'min_samples_leaf' is taken as 2 and 1 respectively.\n",
    "\n",
    "* We are enabling the Out of Bag score as well to get an idea about how well the model has been fitted. \n",
    "\n",
    "* For our model of Random Forest, we are only inputting 5,7,8,9,10 max_depth to be used to build each tree inside this Random Forest. \n",
    "\n",
    "* For our model of Random Forest, we are only inputting 5,6,9,10 features to be used to build each tree inside this Random Forest. \n",
    "\n",
    "* The number of Decision Trees to be built inside this Random Forest has been specified as 301, 201,351,401,451,551 with the n_estimators parameter.\n"
   ]
  },
  {
   "cell_type": "markdown",
   "metadata": {},
   "source": [
    "Now that we have defined a Random Forest model let us build the model on the training data."
   ]
  },
  {
   "cell_type": "code",
   "execution_count": 1047,
   "metadata": {},
   "outputs": [
    {
     "data": {
      "text/plain": [
       "GridSearchCV(cv=3, error_score=nan,\n",
       "             estimator=RandomForestClassifier(bootstrap=True, ccp_alpha=0.0,\n",
       "                                              class_weight=None,\n",
       "                                              criterion='gini', max_depth=None,\n",
       "                                              max_features='auto',\n",
       "                                              max_leaf_nodes=None,\n",
       "                                              max_samples=None,\n",
       "                                              min_impurity_decrease=0.0,\n",
       "                                              min_impurity_split=None,\n",
       "                                              min_samples_leaf=1,\n",
       "                                              min_samples_split=2,\n",
       "                                              min_weight_fraction_leaf=0.0,\n",
       "                                              n_estimators=100, n_jobs=None,\n",
       "                                              oob_score=False, random_state=1,\n",
       "                                              verbose=0, warm_start=False),\n",
       "             iid='deprecated', n_jobs=-1,\n",
       "             param_grid={'max_depth': [5, 7, 8, 9, 10],\n",
       "                         'max_features': [5, 6, 9, 10],\n",
       "                         'n_estimators': [301, 201, 351, 401, 451, 551]},\n",
       "             pre_dispatch='2*n_jobs', refit=True, return_train_score=False,\n",
       "             scoring=None, verbose=0)"
      ]
     },
     "execution_count": 1047,
     "metadata": {},
     "output_type": "execute_result"
    }
   ],
   "source": [
    "grid_search.fit(X_train, train_labels)"
   ]
  },
  {
   "cell_type": "markdown",
   "metadata": {},
   "source": [
    "Now that we have executed the GridSearchCV function, let us see the best parameters that we get."
   ]
  },
  {
   "cell_type": "code",
   "execution_count": 1048,
   "metadata": {},
   "outputs": [
    {
     "data": {
      "text/plain": [
       "{'max_depth': 7, 'max_features': 5, 'n_estimators': 401}"
      ]
     },
     "execution_count": 1048,
     "metadata": {},
     "output_type": "execute_result"
    }
   ],
   "source": [
    "#Would like to see which combination gave us the best fit of all\n",
    "grid_search.best_params_"
   ]
  },
  {
   "cell_type": "markdown",
   "metadata": {},
   "source": [
    "Now we need to get the best model which uses these particular parameters."
   ]
  },
  {
   "cell_type": "code",
   "execution_count": 1049,
   "metadata": {},
   "outputs": [],
   "source": [
    "best_grid_rf = grid_search.best_estimator_"
   ]
  },
  {
   "cell_type": "markdown",
   "metadata": {},
   "source": [
    "Now that we have the best model, let us go ahead and use this model to predict on the Training Data as well as on the Test Data."
   ]
  },
  {
   "cell_type": "code",
   "execution_count": 1050,
   "metadata": {},
   "outputs": [],
   "source": [
    "ytrain_predict_rf = best_grid_rf.predict(X_train)\n",
    "ytest_predict_rf = best_grid_rf.predict(X_test)"
   ]
  },
  {
   "cell_type": "markdown",
   "metadata": {},
   "source": [
    "# Model Evaluation"
   ]
  },
  {
   "cell_type": "markdown",
   "metadata": {},
   "source": [
    "We will now go ahead and evaluate the Random Forest model."
   ]
  },
  {
   "cell_type": "markdown",
   "metadata": {},
   "source": [
    "Let us first evaluate on the training data.\n"
   ]
  },
  {
   "cell_type": "code",
   "execution_count": 1051,
   "metadata": {},
   "outputs": [],
   "source": [
    "from sklearn import metrics"
   ]
  },
  {
   "cell_type": "markdown",
   "metadata": {},
   "source": [
    "We will start by checking the confusion matrix and then the classification report as well."
   ]
  },
  {
   "cell_type": "markdown",
   "metadata": {},
   "source": [
    "### Train Accuracy"
   ]
  },
  {
   "cell_type": "code",
   "execution_count": 1052,
   "metadata": {},
   "outputs": [
    {
     "data": {
      "text/plain": [
       "0.8361904761904762"
      ]
     },
     "execution_count": 1052,
     "metadata": {},
     "output_type": "execute_result"
    }
   ],
   "source": [
    "rf_train_score = best_grid_rf.score(X_train,train_labels)\n",
    "rf_train_score"
   ]
  },
  {
   "cell_type": "markdown",
   "metadata": {},
   "source": [
    "### Confusion_matrix for training data"
   ]
  },
  {
   "cell_type": "code",
   "execution_count": 1053,
   "metadata": {},
   "outputs": [],
   "source": [
    "rf_conf_train =metrics.confusion_matrix(train_labels,ytrain_predict_rf)"
   ]
  },
  {
   "cell_type": "code",
   "execution_count": 1054,
   "metadata": {},
   "outputs": [
    {
     "name": "stdout",
     "output_type": "stream",
     "text": [
      "True Negative: 1345 \n",
      "False Positives: 126 \n",
      "False Negatives: 218 \n",
      "True Positives: 411\n"
     ]
    },
    {
     "data": {
      "image/png": "[encoded data removed]",
      "text/plain": [
       "<Figure size 432x288 with 1 Axes>"
      ]
     },
     "metadata": {
      "needs_background": "light"
     },
     "output_type": "display_data"
    }
   ],
   "source": [
    "tn, fp, fn, tp = metrics.confusion_matrix(train_labels,ytrain_predict_rf).ravel()\n",
    "print('True Negative:',tn,'\\n''False Positives:' ,fp,'\\n''False Negatives:', fn,'\\n''True Positives:', tp)\n",
    "sns.heatmap(metrics.confusion_matrix(train_labels,ytrain_predict_rf),annot=True, fmt='d', cbar=False,cmap='Greys')\n",
    "plt.xlabel('Predicted Label')\n",
    "plt.ylabel('Actual Label')\n",
    "plt.title('Confusion Matrix')\n",
    "plt.show()"
   ]
  },
  {
   "cell_type": "code",
   "execution_count": 1055,
   "metadata": {},
   "outputs": [
    {
     "name": "stdout",
     "output_type": "stream",
     "text": [
      "              precision    recall  f1-score   support\n",
      "\n",
      "           0       0.86      0.91      0.89      1471\n",
      "           1       0.77      0.65      0.70       629\n",
      "\n",
      "    accuracy                           0.84      2100\n",
      "   macro avg       0.81      0.78      0.80      2100\n",
      "weighted avg       0.83      0.84      0.83      2100\n",
      "\n"
     ]
    }
   ],
   "source": [
    "print(metrics.classification_report(train_labels,ytrain_predict_rf))"
   ]
  },
  {
   "cell_type": "markdown",
   "metadata": {},
   "source": [
    "We can see a 84% overall accuracy on the Training data."
   ]
  },
  {
   "cell_type": "markdown",
   "metadata": {},
   "source": [
    "Now, let us check the Area Under Curve of the Receiver Operator Characteristic Curve."
   ]
  },
  {
   "cell_type": "code",
   "execution_count": 1056,
   "metadata": {},
   "outputs": [
    {
     "name": "stdout",
     "output_type": "stream",
     "text": [
      "AUC: 0.892\n"
     ]
    },
    {
     "data": {
      "image/png": "[encoded data removed]",
      "text/plain": [
       "<Figure size 432x288 with 1 Axes>"
      ]
     },
     "metadata": {
      "needs_background": "light"
     },
     "output_type": "display_data"
    }
   ],
   "source": [
    "# AUC and ROC for the training data\n",
    "\n",
    "\n",
    "# calculating on the basis of a person not defaulting\n",
    "# calculate AUC\n",
    "rf_train_auc = metrics.roc_auc_score(train_labels,y_train_predict_prob_rf[:, 1])#keeping only the probabilities for the desired class outcome\n",
    "print('AUC: %.3f' % rf_train_auc)\n",
    "# # calculate roc curve\n",
    "# from sklearn.metrics import roc_curve\n",
    "rf_train_fpr, rf_train_tpr, rf_train_thresholds = metrics.roc_curve(train_labels,y_train_predict_prob_rf[:, 1])#keeping only the probabilities for the desired \n",
    "#class outcome\n",
    "plt.plot([0, 1], [0, 1], linestyle='--')\n",
    "# plot the roc curve for the model\n",
    "plt.plot(rf_train_fpr, rf_train_tpr, marker='.')\n",
    "# show the plot\n",
    "plt.show()"
   ]
  },
  {
   "cell_type": "code",
   "execution_count": 1057,
   "metadata": {},
   "outputs": [
    {
     "name": "stdout",
     "output_type": "stream",
     "text": [
      "rf_train_precision  0.77\n",
      "rf_train_recall  0.65\n",
      "rf_train_f1  0.7\n"
     ]
    }
   ],
   "source": [
    "rf_metrics=classification_report(train_labels, ytrain_predict_rf,output_dict=True)\n",
    "df=pd.DataFrame(rf_metrics).transpose()\n",
    "rf_train_precision=round(df.loc[\"1\"][0],2)\n",
    "rf_train_recall=round(df.loc[\"1\"][1],2)\n",
    "rf_train_f1=round(df.loc[\"1\"][2],2)\n",
    "print ('rf_train_precision ',rf_train_precision)\n",
    "print ('rf_train_recall ',rf_train_recall)\n",
    "print ('rf_train_f1 ',rf_train_f1)\n"
   ]
  },
  {
   "cell_type": "markdown",
   "metadata": {},
   "source": [
    "Now, let us evaluate the predictions got on the test data using the same model evaluation metrics to understand how our model performs on the test data."
   ]
  },
  {
   "cell_type": "markdown",
   "metadata": {},
   "source": [
    "### Test Accuracy"
   ]
  },
  {
   "cell_type": "code",
   "execution_count": 1058,
   "metadata": {},
   "outputs": [
    {
     "data": {
      "text/plain": [
       "0.7777777777777778"
      ]
     },
     "execution_count": 1058,
     "metadata": {},
     "output_type": "execute_result"
    }
   ],
   "source": [
    "rf_test_score = best_grid_rf.score(X_test,test_labels)\n",
    "rf_test_score"
   ]
  },
  {
   "cell_type": "markdown",
   "metadata": {},
   "source": [
    "### Confusion_matrix for test data"
   ]
  },
  {
   "cell_type": "code",
   "execution_count": 1059,
   "metadata": {},
   "outputs": [],
   "source": [
    "rf_conf_test = metrics.confusion_matrix(test_labels,ytest_predict_rf)"
   ]
  },
  {
   "cell_type": "code",
   "execution_count": 1060,
   "metadata": {},
   "outputs": [
    {
     "name": "stdout",
     "output_type": "stream",
     "text": [
      "True Negative: 551 \n",
      "False Positives: 54 \n",
      "False Negatives: 146 \n",
      "True Positives: 149 \n",
      "\n"
     ]
    },
    {
     "data": {
      "image/png": "[encoded data removed]",
      "text/plain": [
       "<Figure size 432x288 with 1 Axes>"
      ]
     },
     "metadata": {
      "needs_background": "light"
     },
     "output_type": "display_data"
    }
   ],
   "source": [
    "tn, fp, fn, tp = metrics.confusion_matrix(test_labels,ytest_predict_rf).ravel()\n",
    "print('True Negative:',tn,'\\n''False Positives:' ,fp,'\\n''False Negatives:', fn,'\\n''True Positives:', tp,'\\n')\n",
    "sns.heatmap(metrics.confusion_matrix(test_labels,ytest_predict_rf),annot=True, fmt='d', cbar=False,cmap='Greys')\n",
    "plt.xlabel('Predicted Label')\n",
    "plt.ylabel('Actual Label')\n",
    "plt.title('Confusion Matrix')\n",
    "plt.show()"
   ]
  },
  {
   "cell_type": "code",
   "execution_count": 1061,
   "metadata": {},
   "outputs": [
    {
     "name": "stdout",
     "output_type": "stream",
     "text": [
      "              precision    recall  f1-score   support\n",
      "\n",
      "           0       0.79      0.91      0.85       605\n",
      "           1       0.73      0.51      0.60       295\n",
      "\n",
      "    accuracy                           0.78       900\n",
      "   macro avg       0.76      0.71      0.72       900\n",
      "weighted avg       0.77      0.78      0.77       900\n",
      "\n"
     ]
    }
   ],
   "source": [
    "print(metrics.classification_report(test_labels,ytest_predict_rf))"
   ]
  },
  {
   "cell_type": "markdown",
   "metadata": {},
   "source": [
    "We can see a 78% overall accuracy on the Testing data."
   ]
  },
  {
   "cell_type": "code",
   "execution_count": 1062,
   "metadata": {},
   "outputs": [
    {
     "name": "stdout",
     "output_type": "stream",
     "text": [
      "AUC: 0.820\n"
     ]
    },
    {
     "data": {
      "image/png": "[encoded data removed]",
      "text/plain": [
       "<Figure size 432x288 with 1 Axes>"
      ]
     },
     "metadata": {
      "needs_background": "light"
     },
     "output_type": "display_data"
    }
   ],
   "source": [
    "# AUC and ROC for the training data\n",
    "\n",
    "\n",
    "# calculating on the basis of a person not defaulting\n",
    "# calculate AUC\n",
    "rf_test_auc = metrics.roc_auc_score(test_labels,y_test_predict_prob_rf[:, 1])#keeping only the probabilities for the desired class outcome\n",
    "print('AUC: %.3f' % rf_test_auc)\n",
    "# # calculate roc curve\n",
    "# from sklearn.metrics import roc_curve\n",
    "rf_test_fpr, rf_test_tpr, rf_test_thresholds = metrics.roc_curve(test_labels,y_test_predict_prob_rf[:, 1])#keeping only the probabilities for the desired \n",
    "#class outcome\n",
    "plt.plot([0, 1], [0, 1], linestyle='--')\n",
    "# plot the roc curve for the model\n",
    "plt.plot(rf_test_fpr, rf_test_tpr, marker='.')\n",
    "# show the plot\n",
    "plt.show()"
   ]
  },
  {
   "cell_type": "code",
   "execution_count": 1063,
   "metadata": {},
   "outputs": [
    {
     "name": "stdout",
     "output_type": "stream",
     "text": [
      "rf_test_precision  0.73\n",
      "rf_test_recall  0.51\n",
      "rf_test_f1  0.6\n"
     ]
    }
   ],
   "source": [
    "rf_metrics=classification_report(test_labels, ytest_predict_rf,output_dict=True)\n",
    "df=pd.DataFrame(rf_metrics).transpose()\n",
    "rf_test_precision=round(df.loc[\"1\"][0],2)\n",
    "rf_test_recall=round(df.loc[\"1\"][1],2)\n",
    "rf_test_f1=round(df.loc[\"1\"][2],2)\n",
    "print ('rf_test_precision ',rf_test_precision)\n",
    "print ('rf_test_recall ',rf_test_recall)\n",
    "print ('rf_test_f1 ',rf_test_f1)"
   ]
  },
  {
   "cell_type": "markdown",
   "metadata": {},
   "source": [
    "## MLP Classifier (Artificial Neural Network)"
   ]
  },
  {
   "cell_type": "markdown",
   "metadata": {},
   "source": [
    "Before building the ANN model, we will go ahead and scale the data. Scaling the predictor variables helps in converging of the values. For computationally heavy algorithms, we can scale the data."
   ]
  },
  {
   "cell_type": "code",
   "execution_count": 1064,
   "metadata": {},
   "outputs": [],
   "source": [
    "from sklearn.preprocessing import StandardScaler "
   ]
  },
  {
   "cell_type": "markdown",
   "metadata": {},
   "source": [
    "Let us define an empty StandardScaler function before using it."
   ]
  },
  {
   "cell_type": "code",
   "execution_count": 1065,
   "metadata": {},
   "outputs": [],
   "source": [
    "sc = StandardScaler() "
   ]
  },
  {
   "cell_type": "markdown",
   "metadata": {},
   "source": [
    "First, we will scale the training data using the mean and standard deviation of the training data itself."
   ]
  },
  {
   "cell_type": "code",
   "execution_count": 1066,
   "metadata": {},
   "outputs": [
    {
     "data": {
      "text/html": [
       "<div>\n",
       "<style scoped>\n",
       "    .dataframe tbody tr th:only-of-type {\n",
       "        vertical-align: middle;\n",
       "    }\n",
       "\n",
       "    .dataframe tbody tr th {\n",
       "        vertical-align: top;\n",
       "    }\n",
       "\n",
       "    .dataframe thead th {\n",
       "        text-align: right;\n",
       "    }\n",
       "</style>\n",
       "<table border=\"1\" class=\"dataframe\">\n",
       "  <thead>\n",
       "    <tr style=\"text-align: right;\">\n",
       "      <th></th>\n",
       "      <th>Age</th>\n",
       "      <th>Commision</th>\n",
       "      <th>Duration</th>\n",
       "      <th>Sales</th>\n",
       "      <th>Agency_Code_C2B</th>\n",
       "      <th>Agency_Code_CWT</th>\n",
       "      <th>Agency_Code_EPX</th>\n",
       "      <th>Agency_Code_JZI</th>\n",
       "      <th>Type_Airlines</th>\n",
       "      <th>Type_Travel Agency</th>\n",
       "      <th>Channel_Offline</th>\n",
       "      <th>Channel_Online</th>\n",
       "      <th>Product Name_Bronze Plan</th>\n",
       "      <th>Product Name_Cancellation Plan</th>\n",
       "      <th>Product Name_Customised Plan</th>\n",
       "      <th>Product Name_Gold Plan</th>\n",
       "      <th>Product Name_Silver Plan</th>\n",
       "      <th>Destination_ASIA</th>\n",
       "      <th>Destination_Americas</th>\n",
       "      <th>Destination_EUROPE</th>\n",
       "    </tr>\n",
       "  </thead>\n",
       "  <tbody>\n",
       "    <tr>\n",
       "      <th>0</th>\n",
       "      <td>-0.191925</td>\n",
       "      <td>-0.580954</td>\n",
       "      <td>-0.287441</td>\n",
       "      <td>-0.573066</td>\n",
       "      <td>-0.684494</td>\n",
       "      <td>-0.435662</td>\n",
       "      <td>1.111945</td>\n",
       "      <td>-0.283279</td>\n",
       "      <td>-0.805203</td>\n",
       "      <td>0.805203</td>\n",
       "      <td>-0.120386</td>\n",
       "      <td>0.120386</td>\n",
       "      <td>-0.5141</td>\n",
       "      <td>-0.536976</td>\n",
       "      <td>1.272185</td>\n",
       "      <td>-0.201579</td>\n",
       "      <td>-0.413789</td>\n",
       "      <td>0.470787</td>\n",
       "      <td>-0.346410</td>\n",
       "      <td>-0.283279</td>\n",
       "    </tr>\n",
       "    <tr>\n",
       "      <th>1</th>\n",
       "      <td>-0.191925</td>\n",
       "      <td>-0.580954</td>\n",
       "      <td>0.461466</td>\n",
       "      <td>-0.269106</td>\n",
       "      <td>-0.684494</td>\n",
       "      <td>-0.435662</td>\n",
       "      <td>1.111945</td>\n",
       "      <td>-0.283279</td>\n",
       "      <td>-0.805203</td>\n",
       "      <td>0.805203</td>\n",
       "      <td>-0.120386</td>\n",
       "      <td>0.120386</td>\n",
       "      <td>-0.5141</td>\n",
       "      <td>-0.536976</td>\n",
       "      <td>1.272185</td>\n",
       "      <td>-0.201579</td>\n",
       "      <td>-0.413789</td>\n",
       "      <td>-2.124102</td>\n",
       "      <td>2.886751</td>\n",
       "      <td>-0.283279</td>\n",
       "    </tr>\n",
       "    <tr>\n",
       "      <th>2</th>\n",
       "      <td>-0.971882</td>\n",
       "      <td>1.216146</td>\n",
       "      <td>2.027988</td>\n",
       "      <td>1.746015</td>\n",
       "      <td>1.460934</td>\n",
       "      <td>-0.435662</td>\n",
       "      <td>-0.899325</td>\n",
       "      <td>-0.283279</td>\n",
       "      <td>1.241923</td>\n",
       "      <td>-1.241923</td>\n",
       "      <td>-0.120386</td>\n",
       "      <td>0.120386</td>\n",
       "      <td>-0.5141</td>\n",
       "      <td>-0.536976</td>\n",
       "      <td>-0.786049</td>\n",
       "      <td>-0.201579</td>\n",
       "      <td>2.416690</td>\n",
       "      <td>0.470787</td>\n",
       "      <td>-0.346410</td>\n",
       "      <td>-0.283279</td>\n",
       "    </tr>\n",
       "    <tr>\n",
       "      <th>3</th>\n",
       "      <td>-0.971882</td>\n",
       "      <td>-0.116754</td>\n",
       "      <td>-0.294312</td>\n",
       "      <td>-0.179299</td>\n",
       "      <td>1.460934</td>\n",
       "      <td>-0.435662</td>\n",
       "      <td>-0.899325</td>\n",
       "      <td>-0.283279</td>\n",
       "      <td>1.241923</td>\n",
       "      <td>-1.241923</td>\n",
       "      <td>-0.120386</td>\n",
       "      <td>0.120386</td>\n",
       "      <td>-0.5141</td>\n",
       "      <td>-0.536976</td>\n",
       "      <td>-0.786049</td>\n",
       "      <td>-0.201579</td>\n",
       "      <td>2.416690</td>\n",
       "      <td>0.470787</td>\n",
       "      <td>-0.346410</td>\n",
       "      <td>-0.283279</td>\n",
       "    </tr>\n",
       "    <tr>\n",
       "      <th>4</th>\n",
       "      <td>0.978010</td>\n",
       "      <td>0.131610</td>\n",
       "      <td>-0.129415</td>\n",
       "      <td>-0.172391</td>\n",
       "      <td>-0.684494</td>\n",
       "      <td>2.295355</td>\n",
       "      <td>-0.899325</td>\n",
       "      <td>-0.283279</td>\n",
       "      <td>-0.805203</td>\n",
       "      <td>0.805203</td>\n",
       "      <td>-0.120386</td>\n",
       "      <td>0.120386</td>\n",
       "      <td>-0.5141</td>\n",
       "      <td>-0.536976</td>\n",
       "      <td>-0.786049</td>\n",
       "      <td>4.960822</td>\n",
       "      <td>-0.413789</td>\n",
       "      <td>0.470787</td>\n",
       "      <td>-0.346410</td>\n",
       "      <td>-0.283279</td>\n",
       "    </tr>\n",
       "  </tbody>\n",
       "</table>\n",
       "</div>"
      ],
      "text/plain": [
       "        Age  Commision  Duration     Sales  Agency_Code_C2B  Agency_Code_CWT  \\\n",
       "0 -0.191925  -0.580954 -0.287441 -0.573066        -0.684494        -0.435662   \n",
       "1 -0.191925  -0.580954  0.461466 -0.269106        -0.684494        -0.435662   \n",
       "2 -0.971882   1.216146  2.027988  1.746015         1.460934        -0.435662   \n",
       "3 -0.971882  -0.116754 -0.294312 -0.179299         1.460934        -0.435662   \n",
       "4  0.978010   0.131610 -0.129415 -0.172391        -0.684494         2.295355   \n",
       "\n",
       "   Agency_Code_EPX  Agency_Code_JZI  Type_Airlines  Type_Travel Agency  \\\n",
       "0         1.111945        -0.283279      -0.805203            0.805203   \n",
       "1         1.111945        -0.283279      -0.805203            0.805203   \n",
       "2        -0.899325        -0.283279       1.241923           -1.241923   \n",
       "3        -0.899325        -0.283279       1.241923           -1.241923   \n",
       "4        -0.899325        -0.283279      -0.805203            0.805203   \n",
       "\n",
       "   Channel_Offline  Channel_Online  Product Name_Bronze Plan  \\\n",
       "0        -0.120386        0.120386                   -0.5141   \n",
       "1        -0.120386        0.120386                   -0.5141   \n",
       "2        -0.120386        0.120386                   -0.5141   \n",
       "3        -0.120386        0.120386                   -0.5141   \n",
       "4        -0.120386        0.120386                   -0.5141   \n",
       "\n",
       "   Product Name_Cancellation Plan  Product Name_Customised Plan  \\\n",
       "0                       -0.536976                      1.272185   \n",
       "1                       -0.536976                      1.272185   \n",
       "2                       -0.536976                     -0.786049   \n",
       "3                       -0.536976                     -0.786049   \n",
       "4                       -0.536976                     -0.786049   \n",
       "\n",
       "   Product Name_Gold Plan  Product Name_Silver Plan  Destination_ASIA  \\\n",
       "0               -0.201579                 -0.413789          0.470787   \n",
       "1               -0.201579                 -0.413789         -2.124102   \n",
       "2               -0.201579                  2.416690          0.470787   \n",
       "3               -0.201579                  2.416690          0.470787   \n",
       "4                4.960822                 -0.413789          0.470787   \n",
       "\n",
       "   Destination_Americas  Destination_EUROPE  \n",
       "0             -0.346410           -0.283279  \n",
       "1              2.886751           -0.283279  \n",
       "2             -0.346410           -0.283279  \n",
       "3             -0.346410           -0.283279  \n",
       "4             -0.346410           -0.283279  "
      ]
     },
     "execution_count": 1066,
     "metadata": {},
     "output_type": "execute_result"
    }
   ],
   "source": [
    "X_train_scaled = pd.DataFrame(sc.fit_transform(X_train),columns=X_train.columns)\n",
    "X_train_scaled.head()"
   ]
  },
  {
   "cell_type": "markdown",
   "metadata": {},
   "source": [
    "Now that we have fitted and transformed the Standard Scaler function on the training data, we will only transform the test using the StandardScaler function. We will use the means and standard deviations of the variables of the training data to scale the test data."
   ]
  },
  {
   "cell_type": "code",
   "execution_count": 1067,
   "metadata": {},
   "outputs": [
    {
     "data": {
      "text/html": [
       "<div>\n",
       "<style scoped>\n",
       "    .dataframe tbody tr th:only-of-type {\n",
       "        vertical-align: middle;\n",
       "    }\n",
       "\n",
       "    .dataframe tbody tr th {\n",
       "        vertical-align: top;\n",
       "    }\n",
       "\n",
       "    .dataframe thead th {\n",
       "        text-align: right;\n",
       "    }\n",
       "</style>\n",
       "<table border=\"1\" class=\"dataframe\">\n",
       "  <thead>\n",
       "    <tr style=\"text-align: right;\">\n",
       "      <th></th>\n",
       "      <th>Age</th>\n",
       "      <th>Commision</th>\n",
       "      <th>Duration</th>\n",
       "      <th>Sales</th>\n",
       "      <th>Agency_Code_C2B</th>\n",
       "      <th>Agency_Code_CWT</th>\n",
       "      <th>Agency_Code_EPX</th>\n",
       "      <th>Agency_Code_JZI</th>\n",
       "      <th>Type_Airlines</th>\n",
       "      <th>Type_Travel Agency</th>\n",
       "      <th>Channel_Offline</th>\n",
       "      <th>Channel_Online</th>\n",
       "      <th>Product Name_Bronze Plan</th>\n",
       "      <th>Product Name_Cancellation Plan</th>\n",
       "      <th>Product Name_Customised Plan</th>\n",
       "      <th>Product Name_Gold Plan</th>\n",
       "      <th>Product Name_Silver Plan</th>\n",
       "      <th>Destination_ASIA</th>\n",
       "      <th>Destination_Americas</th>\n",
       "      <th>Destination_EUROPE</th>\n",
       "    </tr>\n",
       "  </thead>\n",
       "  <tbody>\n",
       "    <tr>\n",
       "      <th>0</th>\n",
       "      <td>-1.499782</td>\n",
       "      <td>0.650546</td>\n",
       "      <td>-0.369411</td>\n",
       "      <td>0.264428</td>\n",
       "      <td>-0.627048</td>\n",
       "      <td>2.359946</td>\n",
       "      <td>-0.948016</td>\n",
       "      <td>-0.318734</td>\n",
       "      <td>-0.773679</td>\n",
       "      <td>0.773679</td>\n",
       "      <td>-0.134535</td>\n",
       "      <td>0.134535</td>\n",
       "      <td>1.807043</td>\n",
       "      <td>-0.548250</td>\n",
       "      <td>-0.768184</td>\n",
       "      <td>-0.175863</td>\n",
       "      <td>-0.392232</td>\n",
       "      <td>-2.200944</td>\n",
       "      <td>-0.343529</td>\n",
       "      <td>3.775478</td>\n",
       "    </tr>\n",
       "    <tr>\n",
       "      <th>1</th>\n",
       "      <td>1.522372</td>\n",
       "      <td>-0.267862</td>\n",
       "      <td>-0.408584</td>\n",
       "      <td>-0.463675</td>\n",
       "      <td>1.594775</td>\n",
       "      <td>-0.423739</td>\n",
       "      <td>-0.948016</td>\n",
       "      <td>-0.318734</td>\n",
       "      <td>1.292526</td>\n",
       "      <td>-1.292526</td>\n",
       "      <td>-0.134535</td>\n",
       "      <td>0.134535</td>\n",
       "      <td>1.807043</td>\n",
       "      <td>-0.548250</td>\n",
       "      <td>-0.768184</td>\n",
       "      <td>-0.175863</td>\n",
       "      <td>-0.392232</td>\n",
       "      <td>0.454350</td>\n",
       "      <td>-0.343529</td>\n",
       "      <td>-0.264867</td>\n",
       "    </tr>\n",
       "    <tr>\n",
       "      <th>2</th>\n",
       "      <td>-0.858719</td>\n",
       "      <td>-0.378306</td>\n",
       "      <td>-0.320445</td>\n",
       "      <td>-0.621305</td>\n",
       "      <td>1.594775</td>\n",
       "      <td>-0.423739</td>\n",
       "      <td>-0.948016</td>\n",
       "      <td>-0.318734</td>\n",
       "      <td>1.292526</td>\n",
       "      <td>-1.292526</td>\n",
       "      <td>-0.134535</td>\n",
       "      <td>0.134535</td>\n",
       "      <td>1.807043</td>\n",
       "      <td>-0.548250</td>\n",
       "      <td>-0.768184</td>\n",
       "      <td>-0.175863</td>\n",
       "      <td>-0.392232</td>\n",
       "      <td>0.454350</td>\n",
       "      <td>-0.343529</td>\n",
       "      <td>-0.264867</td>\n",
       "    </tr>\n",
       "    <tr>\n",
       "      <th>3</th>\n",
       "      <td>-1.041880</td>\n",
       "      <td>0.120582</td>\n",
       "      <td>-0.251893</td>\n",
       "      <td>0.091785</td>\n",
       "      <td>1.594775</td>\n",
       "      <td>-0.423739</td>\n",
       "      <td>-0.948016</td>\n",
       "      <td>-0.318734</td>\n",
       "      <td>1.292526</td>\n",
       "      <td>-1.292526</td>\n",
       "      <td>-0.134535</td>\n",
       "      <td>0.134535</td>\n",
       "      <td>-0.553390</td>\n",
       "      <td>-0.548250</td>\n",
       "      <td>-0.768184</td>\n",
       "      <td>-0.175863</td>\n",
       "      <td>2.549510</td>\n",
       "      <td>0.454350</td>\n",
       "      <td>-0.343529</td>\n",
       "      <td>-0.264867</td>\n",
       "    </tr>\n",
       "    <tr>\n",
       "      <th>4</th>\n",
       "      <td>-0.217656</td>\n",
       "      <td>-0.546282</td>\n",
       "      <td>-0.300859</td>\n",
       "      <td>-0.456168</td>\n",
       "      <td>-0.627048</td>\n",
       "      <td>-0.423739</td>\n",
       "      <td>1.054835</td>\n",
       "      <td>-0.318734</td>\n",
       "      <td>-0.773679</td>\n",
       "      <td>0.773679</td>\n",
       "      <td>-0.134535</td>\n",
       "      <td>0.134535</td>\n",
       "      <td>-0.553390</td>\n",
       "      <td>1.823985</td>\n",
       "      <td>-0.768184</td>\n",
       "      <td>-0.175863</td>\n",
       "      <td>-0.392232</td>\n",
       "      <td>0.454350</td>\n",
       "      <td>-0.343529</td>\n",
       "      <td>-0.264867</td>\n",
       "    </tr>\n",
       "  </tbody>\n",
       "</table>\n",
       "</div>"
      ],
      "text/plain": [
       "        Age  Commision  Duration     Sales  Agency_Code_C2B  Agency_Code_CWT  \\\n",
       "0 -1.499782   0.650546 -0.369411  0.264428        -0.627048         2.359946   \n",
       "1  1.522372  -0.267862 -0.408584 -0.463675         1.594775        -0.423739   \n",
       "2 -0.858719  -0.378306 -0.320445 -0.621305         1.594775        -0.423739   \n",
       "3 -1.041880   0.120582 -0.251893  0.091785         1.594775        -0.423739   \n",
       "4 -0.217656  -0.546282 -0.300859 -0.456168        -0.627048        -0.423739   \n",
       "\n",
       "   Agency_Code_EPX  Agency_Code_JZI  Type_Airlines  Type_Travel Agency  \\\n",
       "0        -0.948016        -0.318734      -0.773679            0.773679   \n",
       "1        -0.948016        -0.318734       1.292526           -1.292526   \n",
       "2        -0.948016        -0.318734       1.292526           -1.292526   \n",
       "3        -0.948016        -0.318734       1.292526           -1.292526   \n",
       "4         1.054835        -0.318734      -0.773679            0.773679   \n",
       "\n",
       "   Channel_Offline  Channel_Online  Product Name_Bronze Plan  \\\n",
       "0        -0.134535        0.134535                  1.807043   \n",
       "1        -0.134535        0.134535                  1.807043   \n",
       "2        -0.134535        0.134535                  1.807043   \n",
       "3        -0.134535        0.134535                 -0.553390   \n",
       "4        -0.134535        0.134535                 -0.553390   \n",
       "\n",
       "   Product Name_Cancellation Plan  Product Name_Customised Plan  \\\n",
       "0                       -0.548250                     -0.768184   \n",
       "1                       -0.548250                     -0.768184   \n",
       "2                       -0.548250                     -0.768184   \n",
       "3                       -0.548250                     -0.768184   \n",
       "4                        1.823985                     -0.768184   \n",
       "\n",
       "   Product Name_Gold Plan  Product Name_Silver Plan  Destination_ASIA  \\\n",
       "0               -0.175863                 -0.392232         -2.200944   \n",
       "1               -0.175863                 -0.392232          0.454350   \n",
       "2               -0.175863                 -0.392232          0.454350   \n",
       "3               -0.175863                  2.549510          0.454350   \n",
       "4               -0.175863                 -0.392232          0.454350   \n",
       "\n",
       "   Destination_Americas  Destination_EUROPE  \n",
       "0             -0.343529            3.775478  \n",
       "1             -0.343529           -0.264867  \n",
       "2             -0.343529           -0.264867  \n",
       "3             -0.343529           -0.264867  \n",
       "4             -0.343529           -0.264867  "
      ]
     },
     "execution_count": 1067,
     "metadata": {},
     "output_type": "execute_result"
    }
   ],
   "source": [
    "X_test_scaled = pd.DataFrame(sc.fit_transform(X_test),columns=X_test.columns)\n",
    "X_test_scaled.head()"
   ]
  },
  {
   "cell_type": "code",
   "execution_count": 1068,
   "metadata": {},
   "outputs": [],
   "source": [
    "param_grid = {\n",
    "    'hidden_layer_sizes': [50,100,200],\n",
    "    'activation': ['logistic', 'tanh', 'relu'],\n",
    "    'solver': ['sgd', 'adam'],\n",
    "    'learning_rate': ['adaptive','constant'],\n",
    "    'tol': [0.01,0.001,0.0001],\n",
    "    'max_iter' : [2500,3000,4000]\n",
    "}\n",
    "\n",
    "rfcl = MLPClassifier()\n",
    "\n",
    "grid_search = GridSearchCV(estimator = rfcl, param_grid = param_grid, cv = 3)"
   ]
  },
  {
   "cell_type": "code",
   "execution_count": 1069,
   "metadata": {},
   "outputs": [
    {
     "data": {
      "text/plain": [
       "GridSearchCV(cv=3, error_score=nan,\n",
       "             estimator=MLPClassifier(activation='relu', alpha=0.0001,\n",
       "                                     batch_size='auto', beta_1=0.9,\n",
       "                                     beta_2=0.999, early_stopping=False,\n",
       "                                     epsilon=1e-08, hidden_layer_sizes=(100,),\n",
       "                                     learning_rate='constant',\n",
       "                                     learning_rate_init=0.001, max_fun=15000,\n",
       "                                     max_iter=200, momentum=0.9,\n",
       "                                     n_iter_no_change=10,\n",
       "                                     nesterovs_momentum=True, power_t=0.5,\n",
       "                                     random_state...\n",
       "                                     validation_fraction=0.1, verbose=False,\n",
       "                                     warm_start=False),\n",
       "             iid='deprecated', n_jobs=None,\n",
       "             param_grid={'activation': ['logistic', 'tanh', 'relu'],\n",
       "                         'hidden_layer_sizes': [50, 100, 200],\n",
       "                         'learning_rate': ['adaptive', 'constant'],\n",
       "                         'max_iter': [2500, 3000, 4000],\n",
       "                         'solver': ['sgd', 'adam'],\n",
       "                         'tol': [0.01, 0.001, 0.0001]},\n",
       "             pre_dispatch='2*n_jobs', refit=True, return_train_score=False,\n",
       "             scoring=None, verbose=0)"
      ]
     },
     "execution_count": 1069,
     "metadata": {},
     "output_type": "execute_result"
    }
   ],
   "source": [
    "grid_search.fit(X_train_scaled, train_labels)"
   ]
  },
  {
   "cell_type": "code",
   "execution_count": 1071,
   "metadata": {},
   "outputs": [
    {
     "data": {
      "text/plain": [
       "{'activation': 'relu',\n",
       " 'hidden_layer_sizes': 200,\n",
       " 'learning_rate': 'adaptive',\n",
       " 'max_iter': 3000,\n",
       " 'solver': 'adam',\n",
       " 'tol': 0.001}"
      ]
     },
     "execution_count": 1071,
     "metadata": {},
     "output_type": "execute_result"
    }
   ],
   "source": [
    "grid_search.best_params_"
   ]
  },
  {
   "cell_type": "markdown",
   "metadata": {},
   "source": [
    "Now we need to get the best model which uses these particular parameters."
   ]
  },
  {
   "cell_type": "code",
   "execution_count": 1072,
   "metadata": {},
   "outputs": [],
   "source": [
    "best_grid_ann = grid_search.best_estimator_"
   ]
  },
  {
   "cell_type": "markdown",
   "metadata": {},
   "source": [
    "Now that we have the best model, let us go ahead and use this model to predict on the Training Data as well as on the Test Data."
   ]
  },
  {
   "cell_type": "code",
   "execution_count": 1073,
   "metadata": {},
   "outputs": [],
   "source": [
    "ytrain_predict_ann = best_grid_ann.predict(X_train_scaled)\n",
    "ytest_predict_ann = best_grid_ann.predict(X_test_scaled)"
   ]
  },
  {
   "cell_type": "markdown",
   "metadata": {},
   "source": [
    "We can also go ahead and predict the probabilities as well. This is useful when we want to fix the value of the cut-off point ourselves to specify the classes. Python takes the default cut-off point as 0.5."
   ]
  },
  {
   "cell_type": "code",
   "execution_count": 1074,
   "metadata": {},
   "outputs": [],
   "source": [
    "#This code snippet is for predicting the probabilites\n",
    "\n",
    "y_train_predict_prob_ann = best_grid_ann.predict_proba(X_train_scaled)\n",
    "y_test_predict_prob_ann = best_grid_ann.predict_proba(X_test_scaled)"
   ]
  },
  {
   "cell_type": "markdown",
   "metadata": {},
   "source": [
    "## Model Evaluation"
   ]
  },
  {
   "cell_type": "markdown",
   "metadata": {},
   "source": [
    "We will now go ahead and evaluate the Random Forest model."
   ]
  },
  {
   "cell_type": "markdown",
   "metadata": {},
   "source": [
    "Let us first evaluate on the training data."
   ]
  },
  {
   "cell_type": "code",
   "execution_count": 1075,
   "metadata": {},
   "outputs": [],
   "source": [
    "from sklearn import metrics"
   ]
  },
  {
   "cell_type": "markdown",
   "metadata": {},
   "source": [
    "We will start by checking the confusion matrix and then the classification report as well."
   ]
  },
  {
   "cell_type": "markdown",
   "metadata": {},
   "source": [
    "### Accuracy Train"
   ]
  },
  {
   "cell_type": "code",
   "execution_count": 1076,
   "metadata": {},
   "outputs": [
    {
     "data": {
      "text/plain": [
       "0.7919047619047619"
      ]
     },
     "execution_count": 1076,
     "metadata": {},
     "output_type": "execute_result"
    }
   ],
   "source": [
    "ann_train_score = best_grid_ann.score(X_train_scaled,train_labels)\n",
    "ann_train_score"
   ]
  },
  {
   "cell_type": "markdown",
   "metadata": {},
   "source": [
    "### Confusion_matrix for train data"
   ]
  },
  {
   "cell_type": "code",
   "execution_count": 1077,
   "metadata": {},
   "outputs": [
    {
     "data": {
      "text/plain": [
       "array([[1295,  176],\n",
       "       [ 261,  368]], dtype=int64)"
      ]
     },
     "execution_count": 1077,
     "metadata": {},
     "output_type": "execute_result"
    }
   ],
   "source": [
    "ann_conf_train = metrics.confusion_matrix(train_labels, ytrain_predict_ann)\n",
    "ann_conf_train"
   ]
  },
  {
   "cell_type": "code",
   "execution_count": 1078,
   "metadata": {},
   "outputs": [
    {
     "name": "stdout",
     "output_type": "stream",
     "text": [
      "True Negative: 1295 \n",
      "False Positives: 176 \n",
      "False Negatives: 261 \n",
      "True Positives: 368\n"
     ]
    },
    {
     "data": {
      "image/png": "[encoded data removed]",
      "text/plain": [
       "<Figure size 432x288 with 1 Axes>"
      ]
     },
     "metadata": {
      "needs_background": "light"
     },
     "output_type": "display_data"
    }
   ],
   "source": [
    "tn, fp, fn, tp = metrics.confusion_matrix(train_labels,ytrain_predict_ann).ravel()\n",
    "print('True Negative:',tn,'\\n''False Positives:' ,fp,'\\n''False Negatives:', fn,'\\n''True Positives:', tp)\n",
    "sns.heatmap(metrics.confusion_matrix(train_labels,ytrain_predict_ann),annot=True, fmt='d', cbar=False,cmap='YlGnBu')\n",
    "plt.xlabel('Predicted Label')\n",
    "plt.ylabel('Actual Label')\n",
    "plt.title('Confusion Matrix')\n",
    "plt.show()    "
   ]
  },
  {
   "cell_type": "markdown",
   "metadata": {},
   "source": [
    "confusion_matrix for training data"
   ]
  },
  {
   "cell_type": "code",
   "execution_count": 1079,
   "metadata": {},
   "outputs": [
    {
     "name": "stdout",
     "output_type": "stream",
     "text": [
      "              precision    recall  f1-score   support\n",
      "\n",
      "           0       0.83      0.88      0.86      1471\n",
      "           1       0.68      0.59      0.63       629\n",
      "\n",
      "    accuracy                           0.79      2100\n",
      "   macro avg       0.75      0.73      0.74      2100\n",
      "weighted avg       0.79      0.79      0.79      2100\n",
      "\n"
     ]
    }
   ],
   "source": [
    "print(metrics.classification_report(train_labels,ytrain_predict_ann))"
   ]
  },
  {
   "cell_type": "markdown",
   "metadata": {},
   "source": [
    "We can see a 79% accuracy on the Training data."
   ]
  },
  {
   "cell_type": "markdown",
   "metadata": {},
   "source": [
    "Now, let us check the Area Under Curve of the Receiver Operator Characteristic Curve."
   ]
  },
  {
   "cell_type": "code",
   "execution_count": 1080,
   "metadata": {},
   "outputs": [
    {
     "name": "stdout",
     "output_type": "stream",
     "text": [
      "AUC: 0.836\n"
     ]
    },
    {
     "data": {
      "image/png": "[encoded data removed]",
      "text/plain": [
       "<Figure size 432x288 with 1 Axes>"
      ]
     },
     "metadata": {
      "needs_background": "light"
     },
     "output_type": "display_data"
    }
   ],
   "source": [
    "# AUC and ROC for the training data\n",
    "\n",
    "\n",
    "# calculating on the basis of a person not defaulting\n",
    "# calculate AUC\n",
    "ann_train_auc = metrics.roc_auc_score(train_labels,y_train_predict_prob_ann[:, 1])#keeping only the probabilities for the desired class outcome\n",
    "print('AUC: %.3f' % ann_train_auc)\n",
    "# # calculate roc curve\n",
    "# from sklearn.metrics import roc_curve\n",
    "ann_train_fpr, ann_train_tpr, ann_train_thresholds = metrics.roc_curve(train_labels,y_train_predict_prob_ann[:, 1])#keeping only the probabilities for the desired \n",
    "#class outcome\n",
    "plt.plot([0, 1], [0, 1], linestyle='--')\n",
    "# plot the roc curve for the model\n",
    "plt.plot(ann_train_fpr, ann_train_tpr, marker='.')\n",
    "# show the plot\n",
    "plt.show()"
   ]
  },
  {
   "cell_type": "code",
   "execution_count": 1081,
   "metadata": {},
   "outputs": [
    {
     "name": "stdout",
     "output_type": "stream",
     "text": [
      "ann_train_precision  0.68\n",
      "ann_train_recall  0.59\n",
      "ann_train_f1  0.63\n"
     ]
    }
   ],
   "source": [
    "nn_metrics=classification_report(train_labels, ytrain_predict_ann,output_dict=True)\n",
    "df=pd.DataFrame(nn_metrics).transpose()\n",
    "ann_train_precision=round(df.loc[\"1\"][0],2)\n",
    "ann_train_recall=round(df.loc[\"1\"][1],2)\n",
    "ann_train_f1=round(df.loc[\"1\"][2],2)\n",
    "print ('ann_train_precision ',ann_train_precision)\n",
    "print ('ann_train_recall ',ann_train_recall)\n",
    "print ('ann_train_f1 ',ann_train_f1)\n"
   ]
  },
  {
   "cell_type": "markdown",
   "metadata": {},
   "source": [
    "Now, let us evaluate the predictions got on the test data using the same model evaluation metrics to understand how our model performs on the test data."
   ]
  },
  {
   "cell_type": "markdown",
   "metadata": {},
   "source": [
    "### Accuracy Test"
   ]
  },
  {
   "cell_type": "code",
   "execution_count": 1082,
   "metadata": {},
   "outputs": [
    {
     "data": {
      "text/plain": [
       "0.7733333333333333"
      ]
     },
     "execution_count": 1082,
     "metadata": {},
     "output_type": "execute_result"
    }
   ],
   "source": [
    "ann_test_score = best_grid_ann.score(X_test_scaled,test_labels)\n",
    "ann_test_score"
   ]
  },
  {
   "cell_type": "markdown",
   "metadata": {},
   "source": [
    "### Confusion_matrix for test data"
   ]
  },
  {
   "cell_type": "code",
   "execution_count": 1083,
   "metadata": {},
   "outputs": [
    {
     "data": {
      "text/plain": [
       "array([[543,  62],\n",
       "       [142, 153]], dtype=int64)"
      ]
     },
     "execution_count": 1083,
     "metadata": {},
     "output_type": "execute_result"
    }
   ],
   "source": [
    "ann_conf_test = metrics.confusion_matrix(test_labels, ytest_predict_ann)\n",
    "ann_conf_test"
   ]
  },
  {
   "cell_type": "code",
   "execution_count": 1084,
   "metadata": {},
   "outputs": [
    {
     "name": "stdout",
     "output_type": "stream",
     "text": [
      "True Negative: 543 \n",
      "False Positives: 62 \n",
      "False Negatives: 142 \n",
      "True Positives: 153 \n",
      "\n"
     ]
    },
    {
     "data": {
      "image/png": "[encoded data removed]",
      "text/plain": [
       "<Figure size 432x288 with 1 Axes>"
      ]
     },
     "metadata": {
      "needs_background": "light"
     },
     "output_type": "display_data"
    }
   ],
   "source": [
    "tn, fp, fn, tp = metrics.confusion_matrix(test_labels,ytest_predict_ann).ravel()\n",
    "print('True Negative:',tn,'\\n''False Positives:' ,fp,'\\n''False Negatives:', fn,'\\n''True Positives:', tp,'\\n')\n",
    "sns.heatmap(metrics.confusion_matrix(test_labels,ytest_predict_ann),annot=True, fmt='d', cbar=False,cmap='YlGnBu')\n",
    "plt.xlabel('Predicted Label')\n",
    "plt.ylabel('Actual Label')\n",
    "plt.title('Confusion Matrix')\n",
    "plt.show()"
   ]
  },
  {
   "cell_type": "code",
   "execution_count": 1085,
   "metadata": {},
   "outputs": [
    {
     "name": "stdout",
     "output_type": "stream",
     "text": [
      "              precision    recall  f1-score   support\n",
      "\n",
      "           0       0.79      0.90      0.84       605\n",
      "           1       0.71      0.52      0.60       295\n",
      "\n",
      "    accuracy                           0.77       900\n",
      "   macro avg       0.75      0.71      0.72       900\n",
      "weighted avg       0.77      0.77      0.76       900\n",
      "\n"
     ]
    }
   ],
   "source": [
    "print(metrics.classification_report(test_labels,ytest_predict_ann))"
   ]
  },
  {
   "cell_type": "markdown",
   "metadata": {},
   "source": [
    "####  We can see a 77% overall accuracy on the Training data."
   ]
  },
  {
   "cell_type": "code",
   "execution_count": 1086,
   "metadata": {},
   "outputs": [
    {
     "name": "stdout",
     "output_type": "stream",
     "text": [
      "AUC: 0.815\n"
     ]
    },
    {
     "data": {
      "image/png": "[encoded data removed]",
      "text/plain": [
       "<Figure size 432x288 with 1 Axes>"
      ]
     },
     "metadata": {
      "needs_background": "light"
     },
     "output_type": "display_data"
    }
   ],
   "source": [
    "# AUC and ROC for the training data\n",
    "\n",
    "\n",
    "# calculating on the basis of a person not defaulting\n",
    "# calculate AUC\n",
    "ann_test_auc = metrics.roc_auc_score(test_labels,y_test_predict_prob_ann[:, 1])#keeping only the probabilities for the desired class outcome\n",
    "print('AUC: %.3f' % ann_test_auc)\n",
    "# # calculate roc curve\n",
    "# from sklearn.metrics import roc_curve\n",
    "ann_test_fpr, ann_test_tpr, ann_test_thresholds = metrics.roc_curve(test_labels,y_test_predict_prob_ann[:, 1])#keeping only the probabilities for the desired \n",
    "#class outcome\n",
    "plt.plot([0, 1], [0, 1], linestyle='--')\n",
    "# plot the roc curve for the model\n",
    "plt.plot(ann_test_fpr, ann_test_tpr, marker='.')\n",
    "# show the plot\n",
    "plt.show()"
   ]
  },
  {
   "cell_type": "code",
   "execution_count": 1087,
   "metadata": {},
   "outputs": [
    {
     "name": "stdout",
     "output_type": "stream",
     "text": [
      "ann_test_precision  0.71\n",
      "ann_test_recall  0.52\n",
      "ann_test_f1  0.6\n"
     ]
    }
   ],
   "source": [
    "nn_metrics=classification_report(test_labels, ytest_predict_ann,output_dict=True)\n",
    "df=pd.DataFrame(nn_metrics).transpose()\n",
    "ann_test_precision=round(df.loc[\"1\"][0],2)\n",
    "ann_test_recall=round(df.loc[\"1\"][1],2)\n",
    "ann_test_f1=round(df.loc[\"1\"][2],2)\n",
    "print ('ann_test_precision ',ann_test_precision)\n",
    "print ('ann_test_recall ',ann_test_recall)\n",
    "print ('ann_test_f1 ',ann_test_f1)\n"
   ]
  },
  {
   "cell_type": "markdown",
   "metadata": {},
   "source": [
    "Model Comparison"
   ]
  },
  {
   "cell_type": "markdown",
   "metadata": {},
   "source": [
    "Comparing Accuracies from all the models for Train and Test Sets"
   ]
  },
  {
   "cell_type": "code",
   "execution_count": 1088,
   "metadata": {},
   "outputs": [
    {
     "data": {
      "text/html": [
       "<div>\n",
       "<style scoped>\n",
       "    .dataframe tbody tr th:only-of-type {\n",
       "        vertical-align: middle;\n",
       "    }\n",
       "\n",
       "    .dataframe tbody tr th {\n",
       "        vertical-align: top;\n",
       "    }\n",
       "\n",
       "    .dataframe thead th {\n",
       "        text-align: right;\n",
       "    }\n",
       "</style>\n",
       "<table border=\"1\" class=\"dataframe\">\n",
       "  <thead>\n",
       "    <tr style=\"text-align: right;\">\n",
       "      <th></th>\n",
       "      <th>CART</th>\n",
       "      <th>RF</th>\n",
       "      <th>ANN</th>\n",
       "    </tr>\n",
       "  </thead>\n",
       "  <tbody>\n",
       "    <tr>\n",
       "      <th>Train-Accuracy</th>\n",
       "      <td>0.800</td>\n",
       "      <td>0.836</td>\n",
       "      <td>0.792</td>\n",
       "    </tr>\n",
       "    <tr>\n",
       "      <th>Test-Accuracy</th>\n",
       "      <td>0.776</td>\n",
       "      <td>0.778</td>\n",
       "      <td>0.773</td>\n",
       "    </tr>\n",
       "  </tbody>\n",
       "</table>\n",
       "</div>"
      ],
      "text/plain": [
       "                 CART     RF    ANN\n",
       "Train-Accuracy  0.800  0.836  0.792\n",
       "Test-Accuracy   0.776  0.778  0.773"
      ]
     },
     "execution_count": 1088,
     "metadata": {},
     "output_type": "execute_result"
    }
   ],
   "source": [
    "index=['Train-Accuracy','Test-Accuracy']\n",
    "columns=['CART','RF','ANN']\n",
    "train = [cart_train_score,rf_train_score,ann_train_score]\n",
    "test = [cart_test_score,rf_test_score,ann_test_score]\n",
    "#\n",
    "data = pd.DataFrame([train,test],index=index,columns=columns)\n",
    "round(data,3)"
   ]
  },
  {
   "cell_type": "markdown",
   "metadata": {},
   "source": [
    "## Comparing Confusion Matrices from All the models for the Train Set."
   ]
  },
  {
   "cell_type": "code",
   "execution_count": 1089,
   "metadata": {},
   "outputs": [
    {
     "data": {
      "image/png": "[encoded data removed]",
      "text/plain": [
       "<Figure size 1080x288 with 3 Axes>"
      ]
     },
     "metadata": {
      "needs_background": "light"
     },
     "output_type": "display_data"
    }
   ],
   "source": [
    "fig, axes = plt.subplots(nrows=1,ncols=3, figsize=(15,4))\n",
    "\n",
    "ax1=sns.heatmap(cart_conf_train,annot=True, fmt='d', cbar=False,cmap='YlGnBu',linewidths=2, linecolor='black', ax=axes[0])\n",
    "ax1.title.set_text('Confusion Matrix for CART Train Set')\n",
    "\n",
    "ax2=sns.heatmap(rf_conf_train,annot=True, fmt='d',cmap='YlGnBu',linewidths=2, linecolor='black',cbar=False,ax=axes[1])\n",
    "ax2.title.set_text('Confusion Matrix for RF Train Set')\n",
    "\n",
    "ax3=sns.heatmap(ann_conf_train,annot=True, fmt='d', linewidths=2, linecolor='black',cbar=False,cmap='YlGnBu',ax=axes[2])\n",
    "ax3.title.set_text('Confusion Matrix for ANN Train Set')\n",
    "\n",
    "plt.subplots_adjust(wspace=0.5)\n",
    "plt.tight_layout()\n",
    "plt.show()"
   ]
  },
  {
   "cell_type": "markdown",
   "metadata": {},
   "source": [
    "### Comparing Confusion Matrices from All the models for the Test Set."
   ]
  },
  {
   "cell_type": "code",
   "execution_count": 1090,
   "metadata": {},
   "outputs": [
    {
     "data": {
      "image/png": "[encoded data removed]",
      "text/plain": [
       "<Figure size 1080x288 with 3 Axes>"
      ]
     },
     "metadata": {
      "needs_background": "light"
     },
     "output_type": "display_data"
    }
   ],
   "source": [
    "fig, axes = plt.subplots(nrows=1,ncols=3, figsize=(15,4))\n",
    "\n",
    "ax4=sns.heatmap(cart_conf_test,annot=True, fmt='d', cbar=False,cmap='YlGnBu',linewidths=2, linecolor='black', ax=axes[0])\n",
    "ax4.title.set_text('Confusion Matrix for CART Test Set')\n",
    "\n",
    "ax5=sns.heatmap(rf_conf_test,annot=True, fmt='d',cmap='YlGnBu',linewidths=2, linecolor='black',cbar=False,ax=axes[1])\n",
    "ax5.title.set_text('Confusion Matrix for RF Test Set')\n",
    "\n",
    "ax6=sns.heatmap(ann_conf_test,annot=True, fmt='d', linewidths=2, linecolor='black',cbar=False,cmap='YlGnBu',ax=axes[2])\n",
    "ax6.title.set_text('Confusion Matrix for ANN Test Set')\n",
    "\n",
    "plt.subplots_adjust(wspace=0.5)\n",
    "plt.tight_layout()\n",
    "plt.show()"
   ]
  },
  {
   "cell_type": "markdown",
   "metadata": {},
   "source": [
    "### ROC Curve of all the models on the Training data"
   ]
  },
  {
   "cell_type": "code",
   "execution_count": 1091,
   "metadata": {},
   "outputs": [
    {
     "data": {
      "text/plain": [
       "<matplotlib.legend.Legend at 0x1a93bc75ec8>"
      ]
     },
     "execution_count": 1091,
     "metadata": {},
     "output_type": "execute_result"
    },
    {
     "data": {
      "image/png": "[encoded data removed]",
      "text/plain": [
       "<Figure size 432x288 with 1 Axes>"
      ]
     },
     "metadata": {
      "needs_background": "light"
     },
     "output_type": "display_data"
    }
   ],
   "source": [
    "plt.plot([0, 1], [0, 1], linestyle='--')\n",
    "plt.plot(cart_train_fpr, cart_train_tpr,color='red',label=\"CART\")\n",
    "plt.plot(rf_train_fpr,rf_train_tpr,color='green',label=\"RF\")\n",
    "plt.plot(ann_train_fpr,ann_train_tpr,color='black',label=\"ANN\")\n",
    "plt.xlabel('False Positive Rate')\n",
    "plt.ylabel('True Positive Rate')\n",
    "plt.title('ROC')\n",
    "plt.legend(bbox_to_anchor=(0., 1.02, 1., .102), loc='lower right')"
   ]
  },
  {
   "cell_type": "markdown",
   "metadata": {},
   "source": [
    "### ROC Curve of all the models on the Testing data"
   ]
  },
  {
   "cell_type": "code",
   "execution_count": 1092,
   "metadata": {},
   "outputs": [
    {
     "data": {
      "text/plain": [
       "<matplotlib.legend.Legend at 0x1a92d9d9e48>"
      ]
     },
     "execution_count": 1092,
     "metadata": {},
     "output_type": "execute_result"
    },
    {
     "data": {
      "image/png": "[encoded data removed]",
      "text/plain": [
       "<Figure size 432x288 with 1 Axes>"
      ]
     },
     "metadata": {
      "needs_background": "light"
     },
     "output_type": "display_data"
    }
   ],
   "source": [
    "plt.plot([0, 1], [0, 1], linestyle='--')\n",
    "plt.plot(cart_test_fpr, cart_test_tpr,color='red',label=\"CART\")\n",
    "plt.plot(rf_test_fpr,rf_test_tpr,color='green',label=\"RF\")\n",
    "plt.plot(ann_test_fpr,ann_test_tpr,color='black',label=\"ANN\")\n",
    "plt.xlabel('False Positive Rate')\n",
    "plt.ylabel('True Positive Rate')\n",
    "plt.title('ROC')\n",
    "plt.legend(bbox_to_anchor=(0., 1.02, 1., .102), loc='lower right')"
   ]
  },
  {
   "cell_type": "markdown",
   "metadata": {},
   "source": [
    "### Comparison of the performance metrics of all the models."
   ]
  },
  {
   "cell_type": "code",
   "execution_count": 1094,
   "metadata": {},
   "outputs": [
    {
     "data": {
      "text/html": [
       "<div>\n",
       "<style scoped>\n",
       "    .dataframe tbody tr th:only-of-type {\n",
       "        vertical-align: middle;\n",
       "    }\n",
       "\n",
       "    .dataframe tbody tr th {\n",
       "        vertical-align: top;\n",
       "    }\n",
       "\n",
       "    .dataframe thead th {\n",
       "        text-align: right;\n",
       "    }\n",
       "</style>\n",
       "<table border=\"1\" class=\"dataframe\">\n",
       "  <thead>\n",
       "    <tr style=\"text-align: right;\">\n",
       "      <th></th>\n",
       "      <th>CART Train</th>\n",
       "      <th>CART Test</th>\n",
       "      <th>Random Forest Train</th>\n",
       "      <th>Random Forest Test</th>\n",
       "      <th>Neural Network Train</th>\n",
       "      <th>Neural Network Test</th>\n",
       "    </tr>\n",
       "  </thead>\n",
       "  <tbody>\n",
       "    <tr>\n",
       "      <th>Accuracy</th>\n",
       "      <td>0.80</td>\n",
       "      <td>0.78</td>\n",
       "      <td>0.84</td>\n",
       "      <td>0.78</td>\n",
       "      <td>0.79</td>\n",
       "      <td>0.77</td>\n",
       "    </tr>\n",
       "    <tr>\n",
       "      <th>AUC</th>\n",
       "      <td>0.83</td>\n",
       "      <td>0.80</td>\n",
       "      <td>0.89</td>\n",
       "      <td>0.82</td>\n",
       "      <td>0.84</td>\n",
       "      <td>0.82</td>\n",
       "    </tr>\n",
       "    <tr>\n",
       "      <th>Recall</th>\n",
       "      <td>0.58</td>\n",
       "      <td>0.46</td>\n",
       "      <td>0.65</td>\n",
       "      <td>0.51</td>\n",
       "      <td>0.59</td>\n",
       "      <td>0.52</td>\n",
       "    </tr>\n",
       "    <tr>\n",
       "      <th>Precision</th>\n",
       "      <td>0.70</td>\n",
       "      <td>0.72</td>\n",
       "      <td>0.77</td>\n",
       "      <td>0.73</td>\n",
       "      <td>0.68</td>\n",
       "      <td>0.71</td>\n",
       "    </tr>\n",
       "    <tr>\n",
       "      <th>F1 Score</th>\n",
       "      <td>0.63</td>\n",
       "      <td>0.56</td>\n",
       "      <td>0.70</td>\n",
       "      <td>0.60</td>\n",
       "      <td>0.63</td>\n",
       "      <td>0.60</td>\n",
       "    </tr>\n",
       "  </tbody>\n",
       "</table>\n",
       "</div>"
      ],
      "text/plain": [
       "           CART Train  CART Test  Random Forest Train  Random Forest Test  \\\n",
       "Accuracy         0.80       0.78                 0.84                0.78   \n",
       "AUC              0.83       0.80                 0.89                0.82   \n",
       "Recall           0.58       0.46                 0.65                0.51   \n",
       "Precision        0.70       0.72                 0.77                0.73   \n",
       "F1 Score         0.63       0.56                 0.70                0.60   \n",
       "\n",
       "           Neural Network Train  Neural Network Test  \n",
       "Accuracy                   0.79                 0.77  \n",
       "AUC                        0.84                 0.82  \n",
       "Recall                     0.59                 0.52  \n",
       "Precision                  0.68                 0.71  \n",
       "F1 Score                   0.63                 0.60  "
      ]
     },
     "execution_count": 1094,
     "metadata": {},
     "output_type": "execute_result"
    }
   ],
   "source": [
    "index=['Accuracy', 'AUC', 'Recall','Precision','F1 Score']\n",
    "data = pd.DataFrame({'CART Train':[cart_train_score,cart_train_auc,cart_train_recall,cart_train_precision,cart_train_f1],\n",
    "        'CART Test':[cart_test_score,cart_test_auc,cart_test_recall,cart_test_precision,cart_test_f1],\n",
    "       'Random Forest Train':[rf_train_score,rf_train_auc,rf_train_recall,rf_train_precision,rf_train_f1],\n",
    "        'Random Forest Test':[rf_test_score,rf_test_auc,rf_test_recall,rf_test_precision,rf_test_f1],\n",
    "       'Neural Network Train':[ann_train_score,ann_train_auc,ann_train_recall,ann_train_precision,ann_train_f1],\n",
    "        'Neural Network Test':[ann_test_score,ann_test_auc,ann_test_recall,ann_test_precision,ann_test_f1]},index=index)\n",
    "round(data,2)"
   ]
  },
  {
   "cell_type": "code",
   "execution_count": null,
   "metadata": {},
   "outputs": [],
   "source": []
  },
  {
   "cell_type": "code",
   "execution_count": null,
   "metadata": {},
   "outputs": [],
   "source": []
  }
 ],
 "metadata": {
  "kernelspec": {
   "display_name": "Python 3",
   "language": "python",
   "name": "python3"
  },
  "language_info": {
   "codemirror_mode": {
    "name": "ipython",
    "version": 3
   },
   "file_extension": ".py",
   "mimetype": "text/x-python",
   "name": "python",
   "nbconvert_exporter": "python",
   "pygments_lexer": "ipython3",
   "version": "3.7.6"
  }
 },
 "nbformat": 4,
 "nbformat_minor": 2
}
